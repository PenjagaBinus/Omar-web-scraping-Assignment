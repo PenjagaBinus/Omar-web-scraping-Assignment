{
  "nbformat": 4,
  "nbformat_minor": 0,
  "metadata": {
    "colab": {
      "provenance": [],
      "authorship_tag": "ABX9TyOy1wbcgHf+hwuU55uJF03l",
      "include_colab_link": true
    },
    "kernelspec": {
      "name": "python3",
      "display_name": "Python 3"
    },
    "language_info": {
      "name": "python"
    }
  },
  "cells": [
    {
      "cell_type": "markdown",
      "metadata": {
        "id": "view-in-github",
        "colab_type": "text"
      },
      "source": [
        "<a href=\"https://colab.research.google.com/github/PenjagaBinus/Omar-web-scraping-Assignment/blob/main/Omar_web_scraping_Assignment.ipynb\" target=\"_parent\"><img src=\"https://colab.research.google.com/assets/colab-badge.svg\" alt=\"Open In Colab\"/></a>"
      ]
    },
    {
      "cell_type": "code",
      "execution_count": 5,
      "metadata": {
        "id": "ijuPennIuTN_"
      },
      "outputs": [],
      "source": [
        "import requests\n",
        "import pandas as pd"
      ]
    },
    {
      "cell_type": "code",
      "source": [
        "url = 'https://www.tutorialspoint.com/dwh/dwh_terminologies.htm'"
      ],
      "metadata": {
        "id": "m8DcrlN_4KuA"
      },
      "execution_count": 10,
      "outputs": []
    },
    {
      "cell_type": "code",
      "source": [
        "from bs4 import BeautifulSoup"
      ],
      "metadata": {
        "id": "El4rOr8r4NB9"
      },
      "execution_count": 7,
      "outputs": []
    },
    {
      "cell_type": "code",
      "source": [
        "response = requests.get(url)"
      ],
      "metadata": {
        "id": "Fel1URre4Sev"
      },
      "execution_count": 11,
      "outputs": []
    },
    {
      "cell_type": "code",
      "source": [
        "response.text"
      ],
      "metadata": {
        "colab": {
          "base_uri": "https://localhost:8080/",
          "height": 165
        },
        "id": "T4c3UZx7596p",
        "outputId": "a66bd1ee-aa9f-4a20-9c33-2a66bf73649f"
      },
      "execution_count": 13,
      "outputs": [
        {
          "output_type": "execute_result",
          "data": {
            "text/plain": [
              "'<!DOCTYPE html>\\n<html lang=\"en\">\\n<head>\\n<title>Data Warehousing - Terminologies</title>\\n<meta charset=\"utf-8\">\\n<meta http-equiv=\"X-UA-Compatible\" content=\"IE=edge\">\\n<meta name=\"viewport\" content=\"width=device-width,initial-scale=1.0,user-scalable=yes, maximum-scale=6\">\\n<meta name=\"Keywords\" content=\"Terminologies, Warehousing, Data, HTML, Python, CSS, SQL, JavaScript, Perl, PHP, Java, C, C++, C#, jQuery, Bootstrap, Colors, XML, MySQL, Icons, NodeJS, React, Graphics, Angular, R, AI, Git, Machine Learning, Data Science, Tutorials, Programming, Data Structure, Algorithms, Web Development, Training, Learning, Quiz, Exercises, Courses, References, Computer Science, Management, Finance, Examples, Articles, Demos, Tips, Website\">\\n<meta name=\"Description\" content=\"Data Warehousing - Terminologies - In this chapter, we will discuss some of the most commonly used terms in data warehousing.\">\\n<meta property=\"og:image\" content=\"https://www.tutorialspoint.com/images/tp_logo_436.png\">\\n<meta property=\"og:image:type\" content=\"image/png\">\\n<meta property=\"og:image:width\" content=\"436\">\\n<meta property=\"og:image:height\" content=\"228\">\\n<meta property=\"og:title\" content=\"Data Warehousing - Terminologies\">\\n<meta property=\"og:description\" content=\"Data Warehousing - Terminologies - In this chapter, we will discuss some of the most commonly used terms in data warehousing.\">\\n<link rel=\"icon\" href=\"https://www.tutorialspoint.com/images/favicon.ico\">\\n<link rel=\"apple-touch-icon\" sizes=\"180x180\" href=\"/images/apple-touch-icon.png\">\\n<link rel=\"icon\" type=\"image/png\" sizes=\"32x32\" href=\"/images/favicon-32x32.png\">\\n<link rel=\"icon\" type=\"image/png\" sizes=\"16x16\" href=\"/images/favicon-16x16.png\">\\n<link rel=\"preconnect\" href=\"https://fonts.googleapis.com\">\\n<link rel=\"preconnect\" href=\"https://fonts.gstatic.com\" crossorigin>\\n<link href=\"https://fonts.googleapis.com/css2?family=Nunito:wght@400;500;600;700&family=Lato:wght@400;700&family=Poppins:wght@400;500;600&family=Raleway:wght@500&display=swap\" rel=\"stylesheet\">\\n<link rel=\"stylesheet\" href=\"/static/css/lib-style.css?v182.922\" media=\"screen, print\">\\n<link rel=\"canonical\" href=\"https://www.tutorialspoint.com/dwh/dwh_terminologies.htm\">\\n<script async src=\"//www.ezojs.com/ezoic/sa.min.js\"></script>\\n<script>\\n  window.ezstandalone = window.ezstandalone || {};\\n  ezstandalone.cmd = ezstandalone.cmd || [];\\n</script>\\n<style>\\n/* Remove Ezoic Logo Line */\\n.tutorial-toc .reportline{\\n   display:none !important;\\n}\\n</style>\\n</head>\\n<body>\\n<button class=\"icon-button--inverted scroll-to-top-button\" title=\"Scroll Up\">\\n  <svg style=\"rotate: 180deg\" width=\"24\" height=\"24\" viewBox=\"0 0 12 12\" fill=\"none\" xmlns=\"http://www.w3.org/2000/svg\"><path d=\"M9.52246 5.06689L6.08496 8.50439L2.64746 5.06689\" stroke=\"#fff\" stroke-linecap=\"round\" stroke-linejoin=\"round\" /></svg>\\n</button>\\n<div class=\"accent-header\">\\n   <nav class=\"accent-nav library-accent-nav\">\\n   <div class=\"accent-nav__content\">\\n      <ul class=\"accent-nav__list\">\\n         <li class=\"accent-nav__item\">\\n            <a class=\"accent-nav__link\" href=\"/index.htm\" title=\"Home\"><i class=\"fa-sharp fa-light fa-home\"></i> Home</a>\\n         </li>\\n\\t\\t <li class=\"accent-nav__item topMenu_block\">\\n\\t\\t\\t<a class=\"accent-nav__link\" href=\"/tutorialslibrary.htm\"><svg width=\"15\" height=\"14\" viewBox=\"0 0 15 14\" fill=\"none\" xmlns=\"http://www.w3.org/2000/svg\"><path d=\"M13.7675 0.781179C13.4295 0.49851 13.0333 0.293734 12.6072 0.18139C12.1811 0.0690464 11.7355 0.0518903 11.3021 0.13114L9.00377 0.548464C8.47315 0.645905 7.9907 0.918899 7.63394 1.32358C7.27624 0.9182 6.79241 0.645144 6.2605 0.548464L3.96582 0.13114C3.53235 0.0518209 3.08675 0.0687522 2.66056 0.180735C2.23436 0.292719 1.83799 0.497016 1.4995 0.779166C1.16101 1.06132 0.888682 1.41442 0.701786 1.81349C0.51489 2.21255 0.417998 2.64782 0.417969 3.08848L0.417969 9.57865C0.418003 10.2827 0.665102 10.9644 1.11619 11.5049C1.56729 12.0455 2.19376 12.4106 2.88643 12.5366L6.6664 13.2239C7.30618 13.3402 7.96169 13.3402 8.60148 13.2239L12.3844 12.5366C13.0766 12.4099 13.7023 12.0446 14.1528 11.5041C14.6033 10.9636 14.85 10.2823 14.8499 9.57865V3.08848C14.8502 2.64798 14.7533 2.21283 14.5662 1.81402C14.3792 1.41521 14.1064 1.06256 13.7675 0.781179ZM7.03261 12.0651C6.98209 12.0579 6.93158 12.0495 6.88107 12.0405L3.10171 11.3538C2.68605 11.2781 2.31011 11.059 2.03945 10.7346C1.76879 10.4102 1.62057 10.0011 1.62063 9.57865V3.08848C1.62063 2.61004 1.81069 2.15118 2.14901 1.81287C2.48732 1.47456 2.94617 1.28449 3.42462 1.28449C3.53352 1.28475 3.64218 1.29461 3.74934 1.31396L6.04642 1.73489C6.3228 1.78546 6.57275 1.93121 6.75289 2.14683C6.93303 2.36245 7.032 2.63433 7.03261 2.9153V12.0651ZM13.6472 9.57865C13.6473 10.0011 13.4991 10.4102 13.2284 10.7346C12.9578 11.059 12.5818 11.2781 12.1662 11.3538L8.3868 12.0405C8.33629 12.0495 8.28578 12.0579 8.23527 12.0651V2.9153C8.23522 2.63364 8.33404 2.36091 8.51448 2.14464C8.69492 1.92837 8.94554 1.7823 9.22265 1.73188L11.5203 1.31095C11.7805 1.26361 12.048 1.27406 12.3037 1.34156C12.5594 1.40907 12.7972 1.53198 13.0001 1.70158C13.203 1.87118 13.3662 2.08333 13.478 2.323C13.5899 2.56268 13.6476 2.82401 13.6472 3.08848V9.57865Z\" fill=\"white\"></path></svg> Library</a>\\n\\t\\t </li>\\n         <li class=\"accent-nav__item\">\\n            <a class=\"accent-nav__link\" href=\"/online-programming-compilers.htm\" title=\"Online Compilers\"><i class=\"fa-sharp fa-light fa-code\"></i>Online Compilers</a>\\n         </li>\\n         <li class=\"accent-nav__item\">\\n            <a class=\"accent-nav__link\" href=\"/job_search.php\" title=\"Jobs\"><i class=\"fa-sharp fa-light fa-suitcase\"></i> Jobs</a>\\n         </li>\\n         <li class=\"accent-nav__item\">\\n            <a class=\"accent-nav__link\" href=\"/whiteboard.htm\" title=\"Whiteboard\"><i class=\"fa-sharp fa-light fa-chalkboard\"></i>Whiteboard</a>\\n         </li>\\n         <li class=\"accent-nav__item\">\\n            <a class=\"accent-nav__link\" href=\"/online_dev_tools.htm\" title=\"Tools\"><i class=\"fa-sharp fa-light fa-tools\"></i>Tools</a>\\n         </li>\\n         <li class=\"accent-nav__item\">\\n            <a class=\\'accent-nav__link\\' href=\"/articles/index.php\" title=\"Articles\"><i class=\"fa-sharp fa-light fa-pen-to-square\"></i>Articles</a>\\n         </li>\\n         <li class=\"accent-nav__item\">\\n            <a class=\"accent-nav__link\" href=\"https://www.tutorialspoint.com/articles/write-and-earn.php\"><i class=\"fa-sharp fa-light fa-money-check-dollar-pen\"></i>Write & Earn</a>\\n         </li>\\n         \\t\\t <li class=\"accent-nav__item topMenu_block\">\\n\\t\\t\\t<a class=\"accent-nav__link\" href=\"https://www.tutorialspoint.com/market/index.asp\"><svg xmlns=\"http://www.w3.org/2000/svg\" width=\"15\" height=\"14\" fill=\"#000\" viewBox=\"0 0 512 512\"><path d=\"M464 256A208 208 0 1 0 48 256a208 208 0 1 0 416 0zM0 256a256 256 0 1 1 512 0A256 256 0 1 1 0 256zM188.3 147.1c7.6-4.2 16.8-4.1 24.3 .5l144 88c7.1 4.4 11.5 12.1 11.5 20.5s-4.4 16.1-11.5 20.5l-144 88c-7.4 4.5-16.7 4.7-24.3 .5s-12.3-12.2-12.3-20.9V168c0-8.7 4.7-16.7 12.3-20.9z\"></path></svg> Courses</a>\\n\\t\\t </li>\\n\\t\\t <li class=\"accent-nav__item topMenu_block\">\\n\\t\\t\\t<a class=\"accent-nav__link\" href=\"https://www.tutorialspoint.com/latest/certifications\" title=\"Certifications\"><svg xmlns=\"http://www.w3.org/2000/svg\" width=\"15\" height=\"14\" viewBox=\"0 0 512 512\" class=\"\"><path d=\"M497.9 97.98L414.02 14.1c-9-9-21.19-14.1-33.89-14.1H176c-26.5.1-47.99 21.6-47.99 48.09V165.7c-5.97 0-11.94-1.68-24.13-5.03-1.7-.46-3.36-.66-4.96-.66-5.56 0-10.43 2.5-13.66 5.79-17.95 18.26-17.07 17.77-41.7 24.5-6.7 1.81-11.97 7.21-13.78 14.07-6.47 24.67-6.09 24.16-24.02 42.32-4.95 5.04-6.9 12.48-5.08 19.43 6.56 24.38 6.52 24.39 0 48.76-1.82 6.95.12 14.4 5.08 19.45 18 18.15 17.58 17.79 24.02 42.29 1.8 6.88 7.08 12.27 13.78 14.1 1.8.48 2.92.8 4.46 1.21V496c0 5.55 2.87 10.69 7.59 13.61 4.66 2.91 10.59 3.16 15.56.7l56.84-28.42 56.84 28.42c2.25 1.12 4.72 1.69 7.16 1.69h272c26.49 0 47.99-21.5 47.99-47.99V131.97c0-12.69-5.1-24.99-14.1-33.99zM384.03 32.59c2.8.7 5.3 2.1 7.4 4.2l83.88 83.88c2.1 2.1 3.5 4.6 4.2 7.4h-95.48V32.59zM33.28 316.68c5.7-22.3 5.7-30.23.01-52.39 15.65-16.2 19.56-22.98 25.63-45.06 21.57-6.13 28.06-9.92 43.88-25.69 9.8 2.62 16.82 4.15 25.21 4.15 8.28 0 15.25-1.49 25.19-4.16 15.56 15.51 22.49 19.58 43.86 25.68 5.98 21.95 9.71 28.63 25.65 45.07-5.77 22.45-5.76 30 0 52.4-15.62 16.17-19.55 22.96-25.61 44.96-14.63 3.92-24 7.36-37.25 19.36-9.94-4.53-20.78-6.89-31.85-6.89s-21.9 2.36-31.85 6.9c-13.18-11.88-22.56-15.34-37.23-19.33-5.97-21.89-9.72-28.57-25.64-45zm101.89 133.01c-4.5-2.25-9.81-2.25-14.31 0l-40.84 20.42V409.9c.12.12.19.17.31.29 3.75 3.82 8.68 5.79 13.64 5.79 3.5 0 7.02-.98 10.16-2.97 7.25-4.59 15.56-6.88 23.87-6.88s16.62 2.29 23.87 6.86c3.16 2.02 6.68 3.01 10.17 3.01 4.96 0 9.87-1.99 13.63-5.79.13-.13.21-.18.34-.32v60.22l-40.84-20.42zm344.84 14.32c0 8.8-7.2 16-16 16h-256V391.9c1.54-.4 2.65-.71 4.44-1.19 6.7-1.82 11.97-7.22 13.77-14.08 6.47-24.68 6.09-24.16 24.03-42.32 4.95-5.04 6.9-12.49 5.07-19.44-6.53-24.33-6.55-24.34 0-48.76 1.83-6.95-.12-14.4-5.07-19.45-18-18.15-17.58-17.79-24.03-42.29-1.8-6.87-7.07-12.27-13.75-14.09-24.23-6.57-23.89-6.23-41.72-24.52-2.94-2.97-6.78-4.52-10.74-5.16V48.09c0-8.8 7.2-16.09 16-16.09h176.03v104.07c0 13.3 10.7 23.93 24 23.93h103.98v304.01z\"></path></svg> Certifications</a>\\n\\t\\t </li>\\n      </ul>\\n   </div>\\n   <div class=\"flex-group\" style=\"gap:0rem;\">\\n   <button class=\"accent-nav__toggle\" aria-expanded=\"false\"> Menu <svg xmlns=\"http://www.w3.org/2000/svg\" width=\"13\" height=\"8\" viewBox=\"0 0 13 8\" fill=\"none\"><path d=\"M1.12891 1.33594L6.40994 6.62214L11.691 1.33594\" stroke=\"white\" stroke-width=\"1.79664\" stroke-linecap=\"round\" stroke-linejoin=\"round\" /></svg></button>\\n   <button aria-expanded=\"false\" class=\"nav-toggle text-white\"> Categories <svg xmlns=\"http://www.w3.org/2000/svg\" width=\"13\" height=\"8\" viewBox=\"0 0 13 8\" fill=\"none\"><path d=\"M1.12891 1.33594L6.40994 6.62214L11.691 1.33594\" stroke=\"white\" stroke-width=\"1.79664\" stroke-linecap=\"round\" stroke-linejoin=\"round\"/></svg></button>\\n   </div>\\n   <a href=\"https://www.tutorialspoint.com/market/login.jsp\" class=\"accent-nav__login-button\"> Login</a>\\n   <ul class=\"flex-group accent-nav__right-list\">\\n      <li class=\"accent-nav__item\">\\n         <button class=\"accent-nav__button theme-toggle\" aria-expanded=\"false\" href=\"/index.htm\"><span class=\"sr-only\">Switch theme</span></button>\\n      </li>\\n      <li>\\n         <a class=\"accent-nav__social-link\" rel=\"nofollow\" target=\"_blank\" href=\"https://www.facebook.com/tutorialspointindia\"><i class=\"fa-sharp fa-light fa-brands fa-facebook\"></i></a>\\n      </li>\\n      <li>\\n         <a class=\"accent-nav__social-link\" target=\"_blank\" href=\"https://www.instagram.com/tutorialspoint_/\" rel=\"nofollow\"><i class=\"fa-sharp fa-light fa-brands fa-instagram\"></i></a>\\n      </li>\\n      <li>\\n         <a class=\"accent-nav__social-link\" target=\"_blank\" href=\"https://twitter.com/tutorialspoint\" rel=\"nofollow\"><i class=\"fa-sharp fa-light fa-brands fa-x-twitter\"></i></a>\\n      </li>\\n      <li>\\n         <a class=\"accent-nav__social-link\" target=\"_blank\" href=\"https://www.youtube.com/channel/UCVLbzhxVTiTLiVKeGV7WEBg\" rel=\"nofollow\"><i class=\"fa-sharp fa-light fa-brands fa-youtube\"></i></a>\\n      </li>\\n      <li>\\n         <a class=\"accent-nav__social-link\" target=\"_blank\" href=\"https://www.linkedin.com/company/tutorialspoint/\" rel=\"nofollow\"><i class=\"fa-sharp fa-light fa-brands fa-linkedin\"></i></a>\\n      </li>\\n   </ul>\\n   </nav>\\n</div>\\n\\n<header class=\"header library-header show\">\\n   <div class=\"container\">\\n      <a href=\"https://www.tutorialspoint.com\" title=\"Tutorialspoint\">\\n         <svg class=\"logo-desktop\" xmlns=\"http://www.w3.org/2000/svg\" width=\"226\" height=\"42\" viewBox=\"0 0 226 42\" fill=\"none\">\\n         <path class=\"logo-desktop-path\" d=\"M76.2136 13.8408V27.7576H72.3845V26.1045C71.3229 27.3193 69.7701 27.9689 68.0642 27.9689C64.5731 27.9689 62.1172 26.0042 62.1172 21.7103V13.8461H66.1523V21.1135C66.1523 23.4426 67.1874 24.4778 68.9726 24.4778C70.7577 24.4778 72.1785 23.2895 72.1785 20.7279V13.8461H76.2136V13.8408Z\" fill=\"#40A944\"></path>\\n         <path class=\"logo-desktop-path\" d=\"M89.1484 20.7959C89.1484 16.6077 92.3807 13.6289 96.8066 13.6289C101.233 13.6289 104.438 16.6024 104.438 20.7959C104.438 24.9894 101.233 27.9629 96.8066 27.9629C92.3807 27.9629 89.1484 24.9894 89.1484 20.7959ZM100.351 20.7959C100.351 18.3928 98.8242 16.9404 96.8066 16.9404C94.7891 16.9404 93.2363 18.3876 93.2363 20.7959C93.2363 23.2043 94.7891 24.6514 96.8066 24.6514C98.8242 24.6514 100.351 23.2043 100.351 20.7959Z\" fill=\"#40A944\"></path>\\n         <path class=\"logo-desktop-path\" d=\"M115.28 13.6348V17.3582C114.942 17.3318 114.683 17.3054 114.377 17.3054C112.153 17.3054 110.68 18.5202 110.68 21.1873V27.7575H106.645V13.8407H110.5V15.6787C111.482 14.3319 113.141 13.6348 115.285 13.6348H115.28Z\" fill=\"#40A944\"></path>\\n         <path class=\"logo-desktop-path\" d=\"M117.695 13.8408H121.73V27.7576H117.695V13.8408Z\" fill=\"#40A944\"></path>\\n         <path class=\"logo-desktop-path\" d=\"M139.119 13.8402V27.757H135.263V26.1514C134.255 27.3661 132.781 27.9629 130.917 27.9629C126.987 27.9629 123.961 25.169 123.961 20.7959C123.961 16.4228 126.987 13.6289 130.917 13.6289C132.623 13.6289 134.07 14.1729 135.079 15.3084V13.8349H139.114L139.119 13.8402ZM135.163 20.7959C135.163 18.3928 133.61 16.9404 131.619 16.9404C129.628 16.9404 128.049 18.3876 128.049 20.7959C128.049 23.2043 129.602 24.6514 131.619 24.6514C133.637 24.6514 135.163 23.2043 135.163 20.7959Z\" fill=\"#40A944\"></path>\\n         <path class=\"logo-desktop-path\" d=\"M146.402 8.5625H142.367V27.7555H146.402V8.5625Z\" fill=\"#40A944\"></path>\\n         <path class=\"logo-desktop-path\" d=\"M149.141 26.4622L150.487 23.5679C151.729 24.3707 153.619 24.9147 155.325 24.9147C157.19 24.9147 157.887 24.4235 157.887 23.6471C157.887 21.3708 149.479 23.7 149.479 18.1385C149.479 15.4978 151.861 13.6387 155.917 13.6387C157.829 13.6387 159.952 14.077 161.272 14.8534L159.925 17.7266C158.552 16.9502 157.184 16.6914 155.917 16.6914C154.105 16.6914 153.329 17.2618 153.329 17.9854C153.329 20.3673 161.737 18.0646 161.737 23.5468C161.737 26.1347 159.334 27.9674 155.167 27.9674C152.811 27.9674 150.435 27.3231 149.141 26.4675V26.4622Z\" fill=\"#40A944\"></path>\\n         <path class=\"logo-desktop-path\" d=\"M178.226 20.9541C178.226 25.0948 175.332 27.8835 171.45 27.8835C169.279 27.8835 167.415 26.9539 166.279 25.1952V32.7742H164.441V14.1515H166.2V16.8398C167.315 15.0283 169.2 14.0459 171.45 14.0459C175.332 14.0459 178.226 16.8398 178.226 20.9541ZM176.388 20.9541C176.388 17.8011 174.191 15.6515 171.318 15.6515C168.445 15.6515 166.248 17.7958 166.248 20.9541C166.248 24.1125 168.418 26.2568 171.318 26.2568C174.218 26.2568 176.388 24.1336 176.388 20.9541Z\" fill=\"var(--clr-text)\"></path>\\n         <path class=\"logo-desktop-path\" d=\"M180.129 20.9541C180.129 16.919 183.076 14.0459 187.058 14.0459C191.041 14.0459 193.966 16.919 193.966 20.9541C193.966 24.9892 191.046 27.8835 187.058 27.8835C183.071 27.8835 180.129 24.9892 180.129 20.9541ZM192.102 20.9541C192.102 17.7747 189.953 15.6515 187.058 15.6515C184.164 15.6515 181.988 17.7747 181.988 20.9541C181.988 24.1336 184.159 26.2568 187.058 26.2568C189.958 26.2568 192.102 24.1336 192.102 20.9541Z\" fill=\"var(--clr-text)\"></path>\\n         <path class=\"logo-desktop-path\" d=\"M196.754 14.1523H198.592V27.7575H196.754V14.1523Z\" fill=\"var(--clr-text)\"></path>\\n         <path class=\"logo-desktop-path\" d=\"M215.288 19.8661V27.7567H213.45V20.051C213.45 17.1778 211.95 15.7043 209.362 15.7043C206.442 15.7043 204.604 17.5159 204.604 20.6161V27.7567H202.766V14.1515H204.524V16.6602C205.507 15.0071 207.345 14.0459 209.695 14.0459C213.006 14.0459 215.283 15.9578 215.283 19.8661H215.288Z\" fill=\"var(--clr-text)\"></path>\\n         <path class=\"logo-desktop-path\" d=\"M59.3346 24.2389C58.8699 24.5769 58.2731 24.7565 57.6815 24.7565C56.5935 24.7565 55.9756 24.1122 55.9756 22.9185V17.2568H59.4139V14.1512H55.9756V10.2852L51.9405 11.2411V14.1512H50.2188V17.2568H51.9405V22.9714C51.9405 26.2829 53.8313 27.9624 57.1375 27.9624C58.3523 27.9624 59.567 27.6772 60.3962 27.0804L59.3346 24.2336V24.2389Z\" fill=\"#40A944\"></path>\\n         <path class=\"logo-desktop-path\" d=\"M87.2878 24.2389C86.823 24.5769 86.2262 24.7565 85.6347 24.7565C84.5467 24.7565 83.9287 24.1122 83.9287 22.9185V17.2568H87.367V14.1512H83.9287V10.2852L79.8936 11.2411V14.1512H78.1719V17.2568H79.8936V22.9714C79.8936 26.2829 81.7844 27.9624 85.0907 27.9624C86.3054 27.9624 87.5202 27.6772 88.3494 27.0804L87.2878 24.2336V24.2389Z\" fill=\"#40A944\"></path>\\n         <path class=\"logo-desktop-path\" d=\"M119.713 11.8222C120.827 11.8222 121.73 10.9189 121.73 9.80465C121.73 8.69039 120.827 7.78711 119.713 7.78711C118.599 7.78711 117.695 8.69039 117.695 9.80465C117.695 10.9189 118.599 11.8222 119.713 11.8222Z\" fill=\"#40A944\"></path>\\n         <path class=\"logo-desktop-path\" d=\"M197.674 11.8222C198.788 11.8222 199.691 10.9189 199.691 9.80465C199.691 8.69039 198.788 7.78711 197.674 7.78711C196.56 7.78711 195.656 8.69039 195.656 9.80465C195.656 10.9189 196.56 11.8222 197.674 11.8222Z\" fill=\"#40A944\"></path>\\n         <path class=\"logo-desktop-path\" d=\"M225.15 25.6071C224.633 26.0719 223.909 26.3043 223.133 26.3043C221.606 26.3043 220.803 25.4223 220.803 23.822V15.699H224.918V14.1462H220.803V10.2168L218.965 11.1728V14.1462H217.043V15.699H218.965V23.9223C218.965 26.4311 220.386 27.8782 222.948 27.8782C224.009 27.8782 225.097 27.5666 225.794 26.9222L225.15 25.6019V25.6071Z\" fill=\"var(--clr-text)\"></path>\\n         <path d=\"M27.3002 39.5829C33.1626 39.4561 38.4072 35.87 40.8842 30.5568C42.3208 27.4829 43.0444 24.013 42.8542 20.3582C42.2785 9.30395 33.1521 0.394029 22.082 0.0718569C9.95038 -0.282005 0 9.44655 0 21.5043C0 30.7099 5.80439 38.5583 13.9485 41.6004C13.1721 40.7871 12.6017 39.7941 12.2531 38.6217C11.7091 36.8101 11.725 34.6711 12.2954 32.2046L15.2319 19.8881H9.16343L10.1564 15.5837L10.4257 14.4429H16.5259L16.6368 13.9411L18.0628 7.76175L26.9727 6.05582L25.1506 13.9411L23.8408 19.8881L20.8197 33.2609C20.3602 35.2626 20.5398 36.8101 21.3743 37.8928C21.3743 37.8928 22.6207 39.6832 27.3002 39.5829ZM29.4128 13.4605C31.8951 12.9904 34.0288 15.1242 33.5588 17.6065C33.2947 18.9902 32.1803 20.1099 30.7912 20.374C28.3089 20.8441 26.1752 18.7103 26.6453 16.228C26.9093 14.8443 28.0237 13.7246 29.4128 13.4605Z\" fill=\"#40A944\"></path>\\n         </svg>\\n         <svg class=\"logo-mobile\" xmlns=\"http://www.w3.org/2000/svg\" width=\"43\" height=\"42\" viewBox=\"0 0 43 42\" fill=\"none\">\\n         <path d=\"M27.3002 39.5829C33.1626 39.4561 38.4072 35.87 40.8842 30.5568C42.3208 27.4829 43.0444 24.013 42.8542 20.3582C42.2785 9.30395 33.1521 0.394029 22.082 0.0718569C9.95038 -0.282005 0 9.44655 0 21.5043C0 30.7099 5.80439 38.5583 13.9485 41.6004C13.1721 40.7871 12.6017 39.7941 12.2531 38.6217C11.7091 36.8101 11.725 34.6711 12.2954 32.2046L15.2319 19.8881H9.16343L10.1564 15.5837L10.4257 14.4429H16.5259L16.6368 13.9411L18.0628 7.76175L26.9727 6.05582L25.1506 13.9411L23.8408 19.8881L20.8197 33.2609C20.3602 35.2626 20.5398 36.8101 21.3743 37.8928C21.3743 37.8928 22.6207 39.6832 27.3002 39.5829ZM29.4128 13.4605C31.8951 12.9904 34.0288 15.1242 33.5588 17.6065C33.2947 18.9902 32.1803 20.1099 30.7912 20.374C28.3089 20.8441 26.1752 18.7103 26.6453 16.228C26.9093 14.8443 28.0237 13.7246 29.4128 13.4605Z\" fill=\"#40A944\"></path>\\n         </svg>\\n      </a>\\n   <nav class=\"nav\">\\n   <ul class=\"nav__list\">\\n   <li class=\"nav__item dropdown\">\\n   <button aria-expanded=\"false\" aria-controls=\"category\" class=\"flex-group dropdown__toggle button-reset\" style=\"--gap: .5rem;\"><i class=\"fa-sharp fa-light fa-grid-2\"></i>\\n   <span class=\"flex-group\" style=\"--gap: 0.25rem;\">\\n   <span>Category</span>\\n   <svg class=\"chevron\" width=\"16\" height=\"16\" viewBox=\"0 0 12 12\" fill=\"none\" xmlns=\"http://www.w3.org/2000/svg\">\\n   <path d=\"M9.52246 5.06689L6.08496 8.50439L2.64746 5.06689\" stroke=\"var(--clr-text)\" stroke-linecap=\"round\" stroke-linejoin=\"round\" />\\n   </svg>\\n   </span>\\n   </button>\\n\\n   <div class=\"dropdown__list-wrapper\" id=\"categories\">\\n     <div class=\" categories-menu\">\\n   <div class=\"\">\\n   <ul>\\n      <li class=\"category-button\" aria-selected=\"true\" role=\"tab\">AI, ML, and Data Science<i class=\"fa-sharp fa-light fa-angle-right\"></i></li>\\n      <li class=\"category-button\" role=\"tab\">Programming Languages<i class=\"fa-sharp fa-light fa-angle-right\"></i></li>\\n      <li class=\"category-button\" role=\"tab\">Web Development Languages<i class=\"fa-sharp fa-light fa-angle-right\"></i></li>\\n      <li class=\"category-button\" role=\"tab\">DevOps<i class=\"fa-sharp fa-light fa-angle-right\"></i></li>\\n      <li class=\"category-button\" role=\"tab\">Databases<i class=\"fa-sharp fa-light fa-angle-right\"></i></li>\\n      <li class=\"category-button\" role=\"tab\">Computer Science Subjects<i class=\"fa-sharp fa-light fa-angle-right\"></i></li>\\n      <li class=\"category-button\" role=\"tab\">Python Technologies<i class=\"fa-sharp fa-light fa-angle-right\"></i></li>\\n      <li class=\"category-button\" role=\"tab\">Software Testing<i class=\"fa-sharp fa-light fa-angle-right\"></i></li>\\n      <li class=\"category-button\" role=\"tab\">Cyber Security<i class=\"fa-sharp fa-light fa-angle-right\"></i></li>\\n      <li class=\"\"><a href=\"/top-categories.htm\" class=\"button w100 mt-2\" title=\"All Categories\"><i class=\"fa-sharp fa-light fa-cubes\"></i> All Categories </a></li>\\n   </ul>\\n\\n   <div class=\"categories-menu-content\">\\n   <div class=\"categories-menu-sections-wrapper\">\\n\\n   <!-- AI, ML Data Science -->\\n   <div class=\"categories-menu-section\">\\n      <button class=\"button button--neutral categories-menu-section__back-button\">\\n          <i class=\"fa-sharp fa-light fa-angle-right\"></i> Back\\n      </button>\\n      <ul>\\n         <li><a href=\"/artificial_intelligence/index.htm\">Artificial Intelligence</a></li>\\n         <li><a href=\"/machine_learning/index.htm\">Machine Learning</a></li>\\n         <li><a href=\"/machine_learning_with_python/index.htm\">ML With Python</a></li>\\n         <li><a href=\"/data_science/index.htm\">Data Science</a></li>\\n         <li><a href=\"/statistics/index.htm\">Statistics</a></li>\\n      </ul>\\n      <ul>\\n         <li><a href=\"/natural_language_processing/index.htm\">NLP</a></li>\\n         <li><a href=\"/artificial_neural_network/index.htm\">Neural Networks</a></li>\\n         <li><a href=\"/tensorflow/index.htm\">TensorFlow</a></li>\\n         <li><a href=\"/pytorch/index.htm\">PyTorch</a></li>\\n         <li><a href=\"/matplotlib/index.htm\">Matplotlib</a></li>\\n      </ul>\\n      <ul>\\n         <li><a href=\"/numpy/index.htm\">NumPy</a></li>\\n         <li><a href=\"/python_pandas/index.htm\">Pandas</a></li>\\n         <li><a href=\"/scipy/index.htm\">SciPy</a></li>\\n         <li><a href=\"/big_data_analytics/index.htm\">Big Data Analytics</a></li>\\n         <li><a href=\"/machine_learning_tutorials.htm\" class=\"w100\">See all</a></li>\\n      </ul>\\n   </div>\\n\\n   <!-- Programming Languages -->\\n   <div class=\"categories-menu-section\">\\n      <button class=\"button button--neutral categories-menu-section__back-button\">\\n          <i class=\"fa-sharp fa-light fa-angle-right\"></i> Back\\n      </button>\\n      <ul>\\n         <li><a href=\"/python/index.htm\">Python</a></li>\\n         <li><a href=\"/java/index.htm\">Java</a></li>\\n         <li><a href=\"/cplusplus/index.htm\">C++</a></li>\\n         <li><a href=\"/cprogramming/index.htm\">C</a></li>\\n         <li><a href=\"/php/index.htm\">PHP</a></li>\\n         <li><a href=\"/go/index.htm\">Go</a></li>\\n      </ul>\\n      <ul>\\n         <li><a href=\"/kotlin/index.htm\">Kotlin</a></li>\\n         <li><a href=\"/r/index.htm\">R</a></li>\\n         <li><a href=\"/asp.net/index.htm\">ASP.Net</a></li>\\n         <li><a href=\"/csharp/index.htm\">C#.Net</a></li>\\n         <li><a href=\"/vb.net/index.htm\">VB.Net</a></li>\\n         <li><a href=\"/scala/index.htm\">Scala</a></li>\\n      </ul>\\n      <ul>\\n         <li><a href=\"/swift/index.htm\">Swift</a></li>\\n         <li><a href=\"/perl/index.htm\">Perl</a></li>\\n         <li><a href=\"/ruby/index.htm\">Ruby</a></li>\\n         <li><a href=\"/rust/index.htm\">Rust</a></li>\\n         <li><a href=\"/lua/index.htm\">Lua</a></li>\\n         <li><a href=\"/computer_programming_tutorials.htm\" class=\"w100\">See all</a></li>\\n      </ul>\\n   </div>\\n\\n   <!-- Web Development Languages -->\\n   <div class=\"categories-menu-section\">\\n      <button class=\"button button--neutral categories-menu-section__back-button\">\\n          <i class=\"fa-sharp fa-light fa-angle-right\"></i> Back\\n      </button>\\n      <ul>\\n         <li><a href=\"/html/index.htm\">HTML</a></li>\\n         <li><a href=\"/css/index.htm\">CSS</a></li>\\n         <li><a href=\"/javascript/index.htm\">JavaScript</a></li>\\n         <li><a href=\"/jquery/index.htm\">jQuery</a></li>\\n         <li><a href=\"/reactjs/index.htm\">ReactJs</a></li>\\n         <li><a href=\"/nodejs/index.htm\">NodeJs</a></li>\\n      </ul>\\n      <ul>\\n         <li><a href=\"/wordpress/index.htm\">Wordpress</a></li>\\n         <li><a href=\"/angularjs/index.htm\">AngularJs</a></li>\\n         <li><a href=\"/php/index.htm\">PHP</a></li>\\n         <li><a href=\"/django/index.htm\">Django</a></li>\\n         <li><a href=\"/json/index.htm\">JSON</a></li>\\n         <li><a href=\"/codeigniter/index.htm\">Codeigniter</a></li>\\n      </ul>\\n      <ul>\\n         <li><a href=\"/typescript/index.htm\">TypeScript</a></li>\\n         <li><a href=\"/ajax/index.htm\">Ajax</a></li>\\n         <li><a href=\"/bootstrap/index.htm\">Bootstrap</a></li>\\n         <li><a href=\"/sass/index.htm\">Sass</a></li>\\n         <li><a href=\"/appml/index.htm\">AppML</a></li>\\n         <li><a href=\"/web_development_tutorials.htm\" class=\"w100\">See all</a></li>\\n      </ul>\\n   </div>\\n   <!-- DevOPS -->\\n   <div class=\"categories-menu-section\">\\n      <button class=\"button button--neutral categories-menu-section__back-button\">\\n          <i class=\"fa-sharp fa-light fa-angle-right\"></i> Back\\n      </button>\\n      <ul>\\n         <li><a href=\"/git/index.htm\">GIT</a></li>\\n         <li><a href=\"/amazon_web_services/index.htm\">AWS</a></li>\\n         <li><a href=\"/docker/index.htm\">Docker</a></li>\\n         <li><a href=\"/kubernetes/index.htm\">Kubernetes</a></li>\\n         <li><a href=\"/microsoft_azure/index.htm\">Azure</a></li>\\n         <li><a href=\"/gitlab/index.htm\">Gitlab</a></li>\\n      </ul>\\n      <ul>\\n         <li><a href=\"/jira/index.htm\">Jira</a></li>\\n         <li><a href=\"/gerrit/index.htm\">Gerrit</a></li>\\n         <li><a href=\"/ansible/index.htm\">Ansible</a></li>\\n         <li><a href=\"/bugzilla/index.htm\">Bugzilla</a></li>\\n         <li><a href=\"/chef/index.htm\">Chef</a></li>\\n         <li><a href=\"/saltstack/index.htm\">SaltStack</a></li>\\n      </ul>\\n      <ul>\\n         <li><a href=\"/openshift/index.htm\">OpenShift <i class=\"fa-sharp fa-light fa-angle-right\"></i></a> </li>\\n         <li><a href=\"/puppet/index.htm\">Puppet</a></li>\\n         <li><a href=\"/unix/index.htm\">UNIX</a></li>\\n         <li><a href=\"/linux_admin/index.htm\">Linux Admin</a></li>\\n         <li><a href=\"/ubuntu/index.htm\">Ubuntu</a></li>\\n         <li><a href=\"/devops_tutorials.htm\" class=\"w100\">See all</a></li>\\n      </ul>\\n   </div>\\n  <!-- Databases -->\\n   <div class=\"categories-menu-section\">\\n      <button class=\"button button--neutral categories-menu-section__back-button\">\\n          <i class=\"fa-sharp fa-light fa-angle-right\"></i> Back\\n      </button>\\n      <ul>\\n         <li><a href=\"/dbms/index.htm\">DBMS</a></li>\\n         <li><a href=\"/sql/index.htm\">SQL</a></li>\\n         <li><a href=\"/plsql/index.htm\">PL/SQL</a></li>\\n         <li><a href=\"/mysql/index.htm\">MySQL</a></li>\\n         <li><a href=\"/tinydb/index.htm\">TinyDB</a></li>\\n      </ul>\\n      <ul>\\n         <li><a href=\"/ms_sql_server/index.htm\">SQL Server</a></li>\\n         <li><a href=\"/mongodb/index.htm\">MongoDB</a></li>\\n         <li><a href=\"/postgresql/index.htm\">PostgreSQL</a></li>\\n         <li><a href=\"/sqlite/index.htm\">SQLite</a></li>\\n         <li><a href=\"/redis/index.htm\">Redis</a></li>\\n      </ul>\\n      <ul>\\n         <li><a href=\"/phpmyadmin/index.htm\">PHP MyAdmin</a></li>\\n         <li><a href=\"/mariadb/index.htm\">MariaDB</a></li>\\n         <li><a href=\"/couchdb/index.htm\">CouchDB</a></li>\\n         <li><a href=\"/db2/index.htm\">DB2</a></li>\\n         <li><a href=\"/database_tutorials.htm\" class=\"w100\">See all </a></li>\\n      </ul>\\n   </div>\\n   <!-- Computer Science Subjects -->\\n   <div class=\"categories-menu-section\">\\n      <button class=\"button button--neutral categories-menu-section__back-button\">\\n          <i class=\"fa-sharp fa-light fa-angle-right\"></i> Back\\n      </button>\\n      <ul>\\n         <li><a href=\"/computer_fundamentals/index.htm\" class=\"h60\">Computer Fundamentals</a></li>\\n         <li><a href=\"/operating_system/index.htm\" class=\"h60\">Operating System</a></li>\\n         <li><a href=\"/dbms/index.htm\" class=\"h60\">DBMS</a></li>\\n         <li><a href=\"/data_structures_algorithms/index.htm\" class=\"h60\">DSA</a></li>\\n         <li><a href=\"/data_communication_computer_network/index.htm\" class=\"h60\">Computer Networks</a></li>\\n         <li><a href=\"/software_engineering/index.htm\" class=\"h60\">Software Engineering</a></li>\\n      </ul>\\n      <ul>\\n         <li><a href=\"/computer_graphics/index.htm\" class=\"h60\">Computer Graphics</a></li>\\n         <li><a href=\"/data_mining/index.htm\" class=\"h60\">Data Mining</a></li>\\n         <li><a href=\"/digital_marketing/index.htm\" class=\"h60\">Digital Marketing</a></li>\\n         <li><a href=\"/seo/index.htm\" class=\"h60\">SEO</a></li>\\n         <li><a href=\"/digital_circuits/index.htm\" class=\"h60\">Digital Circuits</a></li>\\n         <li><a href=\"/discrete_mathematics/index.htm\" class=\"h60\">Discrete Mathematics</a></li>\\n      </ul>\\n      <ul>\\n         <li><a href=\"/cryptography/index.htm\" class=\"h60\">Cryptography</a></li>\\n         <li><a href=\"/cloud_computing/index.htm\" class=\"h60\">Cloud Computing</a></li>\\n         <li><a href=\"/compiler_design/index.htm\" class=\"h60\">Compiler Design</a></li>\\n         <li><a href=\"/embedded_systems/index.htm\" class=\"h60\">Embedded Systems</a></li>\\n         <li><a href=\"/microprocessor/index.htm\" class=\"h60\">Microprocessors</a></li>\\n         <li><a href=\"/computer_science_tutorials.htm\" class=\"w100\" style=\"line-height:36px;\">See all </a></li>\\n      </ul>\\n   </div>\\n  <!-- Python Technologies -->\\n   <div class=\"categories-menu-section\">\\n      <button class=\"button button--neutral categories-menu-section__back-button\">\\n          <i class=\"fa-sharp fa-light fa-angle-right\"></i> Back\\n      </button>\\n      <ul>\\n         <li><a href=\"/python/index.htm\">Python</a></li>\\n         <li><a href=\"/numpy/index.htm\">NumPy</a></li>\\n         <li><a href=\"/python_pandas/index.htm\">Pandas</a></li>\\n         <li><a href=\"/matplotlib/index.htm\">Matplotlib</a></li>\\n      </ul>\\n      <ul>\\n         <li><a href=\"/django/index.htm\">Django</a></li>\\n         <li><a href=\"/pyqt/index.htm\">PyQt</a></li>\\n         <li><a href=\"/pycharm/index.htm\">PyCharm</a></li>\\n         <li><a href=\"/python_pillow/index.htm\">Pillow</a></li>\\n      </ul>\\n      <ul>\\n         <li><a href=\"/opencv/index.htm\">OpenCV</a></li>\\n         <li><a href=\"/seaborn/index.htm\">Seaborn</a></li>\\n         <li><a href=\"/machine_learning_with_python/index.htm\">ML with Python</a></li>\\n         <li><a href=\"/scipy/index.htm\">SciPy</a></li>\\n         <li><a href=\"/python_technologies_tutorials.htm\" class=\"w100\">See all </a></li>\\n      </ul>\\n   </div>\\n\\n   <!-- Software Testing -->\\n   <div class=\"categories-menu-section\">\\n      <button class=\"button button--neutral categories-menu-section__back-button\">\\n          <i class=\"fa-sharp fa-light fa-angle-right\"></i> Back\\n      </button>\\n      <ul>\\n         <li><a href=\"/software_testing/index.htm\" title=\"Software Testing\">Software Testing</a></li>\\n         <li><a href=\"/jira/index.htm\" title=\"Jira\">Jira</a></li>\\n         <li><a href=\"/selenium/index.htm\" title=\"Selenium\">Selenium</a></li>\\n         <li><a href=\"/testrail/index.htm\">TestRail</a></li>\\n      </ul>\\n      <ul>\\n         <li><a href=\"/postman/index.htm\" title=\"Postman\">Postman</a></li>\\n         <li><a href=\"/cucumber/index.htm\">Cucumber</a></li>\\n         <li><a href=\"/cypress/index.htm\">Cypress</a></li>\\n      </ul>\\n      <ul>\\n         <li><a href=\"/watir/index.htm\">Watir</a></li>\\n         <li><a href=\"/agile/index.htm\" title=\"Agile\">Agile</a></li>\\n         <li><a href=\"/jmeter/index.htm\" title=\"jMeter\">jMeter</a></li>\\n      </ul>\\n   </div>\\n   <!-- Cyber Security -->\\n   <div class=\"categories-menu-section\">\\n      <button class=\"button button--neutral categories-menu-section__back-button\">\\n          <i class=\"fa-sharp fa-light fa-angle-right\"></i> Back\\n      </button>\\n      <ul>\\n         <li><a href=\"/blockchain/index.htm\" title=\"Blockchain\">Blockchain</a></li>\\n         <li><a href=\"/information_security_cyber_law/index.htm\" title=\"Information Security\">Information Security</a></li>\\n      </ul>\\n      <ul>\\n         <li><a href=\"/computer_security/index.htm\" title=\"Computer Security\">Computer Security</a></li>\\n         <li><a href=\"/internet_security/index.htm\" title=\"Internet Security\">Internet Security</a></li>\\n      </ul>\\n      <ul>\\n         <li><a href=\"/network_security/index.htm\" title=\"Network Security\">Network Security</a></li>\\n         <li><a href=\"/wireless_security/index.htm\" title=\"Wireless Security\">Wireless Security</a></li>\\n      </ul>\\n   </div>\\n   </div>\\n   </div>\\n   </div>\\n   </div>\\n         </div>\\n      </li>\\n      <li class=\"nav__search-wrapper\">\\n      <input type=\"text\" class=\"nav__item nav__search gradient-input\" placeholder=\"Search tutorials, courses and ebooks...\" id=\"search-strings\" name=\"key\" data-result=\"search-results\" aria-label=\"Search\" autocomplete=\"off\">\\n      <button type=\"button\" id=\"btnSearch\" title=\"Search Tutorials\" class=\"btn bg-transparent px-2 py-0 position-absolute top-50 end-0 translate-middle-y\"><svg fill=\"rgb(44, 157, 48)\" xmlns=\"http://www.w3.org/2000/svg\" height=\"1em\" viewBox=\"0 0 512 512\"><path d=\"M508.5 481.6l-129-129c-2.3-2.3-5.3-3.5-8.5-3.5h-10.3C395 312 416 262.5 416 208 416 93.1 322.9 0 208 0S0 93.1 0 208s93.1 208 208 208c54.5 0 104-21 141.1-55.2V371c0 3.2 1.3 6.2 3.5 8.5l129 129c4.7 4.7 12.3 4.7 17 0l9.9-9.9c4.7-4.7 4.7-12.3 0-17zM208 384c-97.3 0-176-78.7-176-176S110.7 32 208 32s176 78.7 176 176-78.7 176-176 176z\"/></svg></button>\\n      <div class=\"search-box search-box-inn\" id=\"search-results\"></div>\\n      <div class=\"clear\"></div>\\n      </li>\\n      <li class=\"nav__item nav__item--left menuBlock\"><a class=\"nav__link\" href=\"/tutorialslibrary.htm\">Library</a></li>\\n      <li class=\"nav__item menuBlock\"><a class=\\'nav__link\\' href=\"https://www.tutorialspoint.com/market/index.asp\">Courses</a></li>\\n      <li class=\"nav__item menuBlock\"><a class=\"nav__link\" href=\"https://www.tutorialspoint.com/latest/certifications\">Certifications</a></li>\\n      <li class=\"nav__item nav__item--button menuBlock\"><a href=\"https://www.tutorialspoint.com/market/login.jsp\" class=\"button nav__signup-link fw-600\">Login</a></li>\\n      </ul>\\n   </nav>\\n   <button aria-expanded=\"false\" class=\"tutorial-toc-toggle\">\\n      <span class=\"sr-only\">Menu</span>\\n   </button>\\n   <div class=\"flex-group header__buttons\" style=\"--gap: min(3vw, 1rem)\">\\n      <div class=\"nav__search-wrapper nav__search-wrapper--mobile\">\\n         <input type=\"text\" class=\"nav__item nav__search nav__search--mobile gradient-input\" placeholder=\"Search tutorials, courses and ebooks...\" id=\"mobile-search-strings\" name=\"key\" data-result=\"search-results\" aria-label=\"Search\" autocomplete=\"off\">\\n      </div>\\n      <button aria-expanded=\"false\" class=\"button-reset mobile-search-button header__search-button search-button\">\\n         <span class=\"sr-only\">Show search</span>\\n      </button>\\n   </div>\\n   </div>\\n</header>\\n<nav class=\"library-nav\">\\n   <div class=\"library-nav__container\">\\n   <button style=\"display: block;\" class=\"library-nav__prev-button library-nav__button button-reset\" id=\"scroll_left_btn\" onmousedown=\"initScroll(-1)\" onmouseup=\"stopScrolling()\" onmouseout=\"stopScrolling()\"><svg xmlns=\"http://www.w3.org/2000/svg\" width=\"10\" height=\"15\" viewBox=\"0 0 10 17\" fill=\"none\"><path d=\"M8.17969 15.459L0.963867 8.24316L8.17969 1.02734\" stroke=\"white\" stroke-width=\"1.79664\" stroke-linecap=\"round\" stroke-linejoin=\"round\"></path></svg></button>\\n   <div class=\"library-nav__slider\">\\n      <ul id=\"library-nav\">\\n         <li><a class=\"\" href=\"/sql/index.htm\" title=\"SQL Tutorial\">SQL</a></li>\\n         <li><a class=\"\" href=\"/html/index.htm\" title=\"HTML Tutorial\">HTML</a></li>\\n         <li><a class=\"\" href=\"/css/index.htm\" title=\"CSS Tutorial\">CSS</a></li>\\n         <li><a class=\"\" href=\"/javascript/index.htm\" title=\"JavaScript Tutorial\">Javascript</a></li>\\n         <li><a class=\"\" href=\"/python/index.htm\" title=\"Python Tutorial\">Python</a></li>\\n         <li><a class=\"\" href=\"/java/index.htm\" title=\"Java Tutorial\">Java</a></li>\\n         <li><a class=\"\" href=\"/cprogramming/index.htm\" title=\"C Tutorial\">C</a></li>\\n         <li><a class=\"\" href=\"/cplusplus/index.htm\" title=\"C++ Tutorial\">C++</a></li>\\n         <li><a class=\"\" href=\"/php/index.htm\" title=\"PHP Tutorial\">PHP</a></li>\\n         <li><a class=\"\" href=\"/scala/index.htm\" title=\"Scala Tutorial\">Scala</a></li>\\n         <li><a class=\"\" href=\"/csharp/index.htm\" title=\"C# Tutorial\">C#</a></li>\\n         <li><a class=\"\" href=\"/tailwind_css/index.htm\" title=\"Tailwind CSS Tutorial\">Tailwind CSS</a></li>\\n         <li><a class=\"\" href=\"/nodejs/index.htm\" title=\"Node.js Tutorial\">Node.js</a></li>\\n         <li><a class=\"\" href=\"/mysql/index.htm\" title=\"MySQL\">MySQL</a></li>\\n         <li><a class=\"\" href=\"/mongodb/index.htm\" title=\"MongoDB Tutorial\">MongoDB</a></li>\\n         <li><a class=\"\" href=\"/plsql/index.htm\" title=\"PL/SQL Tutorial\">PL/SQL</a></li>\\n         <li><a class=\"\" href=\"/swift/index.htm\" title=\"Swift Tutorial\">Swift</a></li>\\n         <li><a class=\"\" href=\"/bootstrap/index.htm\" title=\"Bootstrap Tutorial\">Bootstrap</a></li>\\n         <li><a class=\"\" href=\"/r/index.htm\" title=\"R Programming\">R</a></li>\\n         <li><a class=\"\" href=\"/machine_learning/index.htm\" title=\"Machine Learning\">Machine Learning</a></li>\\n         <li><a class=\"\" href=\"/blockchain/index.htm\" title=\"Blockchain Tutorial\">Blockchain</a></li>\\n         <li><a class=\"\" href=\"/angular4/index.htm\" title=\"Angular Tutorial\">Angular</a></li>\\n         <li><a class=\"\" href=\"/react_native/index.htm\" title=\"React Native Tutorial\">React Native</a></li>\\n         <li><a class=\"\" href=\"/computer_fundamentals/index.htm\" title=\"Computer Fundamentals Tutorial\">Computer Fundamentals</a></li>\\n         <li><a class=\"\" href=\"/compiler_design/index.htm\" title=\"Compiler Design Tutorial\">Compiler Design</a></li>\\n         <li><a class=\"\" href=\"/operating_system/index.htm\" title=\"Operating System Tutorial\">Operating System</a></li>\\n         <li><a class=\"\" href=\"/data_structures_algorithms/index.htm\" title=\"Data Structure and Algorithms Tutorial\">Data Structure and Algorithms</a></li>\\n         <li><a class=\"\" href=\"/data_communication_computer_network/index.htm\" title=\"Computer Network Tutorial\">Computer Network</a></li>\\n         <li><a class=\"\" href=\"/dbms/index.htm\" title=\"DBMS Tutorial\">DBMS</a></li>\\n         <li><a class=\"\" href=\"/excel/index.htm\" title=\"Excel Tutorial\">Excel</a></li>\\n      </ul>\\n   </div>\\n   <button class=\"library-nav__next-button library-nav__button button-reset\" id=\"scroll_right_btn\" onmousedown=\"initScroll(1)\" onmouseup=\"stopScrolling()\" onmouseout=\"stopScrolling()\"><svg xmlns=\"http://www.w3.org/2000/svg\" width=\"10\" height=\"15\" viewBox=\"0 0 10 17\" fill=\"none\"><path d=\"M1.27734 15.459L8.49316 8.24316L1.27734 1.02734\" stroke=\"white\" stroke-width=\"1.79664\" stroke-linecap=\"round\" stroke-linejoin=\"round\"></path></svg></button>\\n   </div>\\n</nav>\\n\\n<main class=\"bg-light\" style=\"overflow: unset;\">\\n<div class=\"container-fluid\">\\n<div class=\"row\">\\n<div class=\"tutorial-toc\">\\n<div class=\"toc-nav\">\\n<div class=\"mini-logo\">\\n<img src=\"/dwh/images/dwh-mini-logo.jpg\" alt=\"Data Warehousing Tutorial\" />\\n</div>\\n<div id=\"ezoic-pub-ad-placeholder-146\" style=\"max-height:100px;\"></div>\\n<script>\\n    ezstandalone.cmd.push(function() {\\n        ezstandalone.showAds([{id: 146, required: true}]);\\n    });\\n</script>\\n<ul class=\"toc chapters\">\\n<li class=\"heading\">Data Warehousing Tutorial</li>\\n<li><a href=\"/dwh/index.htm\">DWH - Home</a></li>\\n<li><a href=\"/dwh/dwh_overview.htm\">DWH - Overview</a></li>\\n<li><a href=\"/dwh/dwh_data_warehousing.htm\">DWH - Concepts</a></li>\\n<li><a href=\"/dwh/dwh_terminologies.htm\">DWH - Terminologies</a></li>\\n<li><a href=\"/dwh/dwh_delivery_process.htm\">DWH - Delivery Process</a></li>\\n<li><a href=\"/dwh/dwh_system_processes.htm\">DWH - System Processes</a></li>\\n<li><a href=\"/dwh/dwh_architecture.htm\">DWH - Architecture</a></li>\\n<li><a href=\"/dwh/dwh_olap.htm\">DWH - OLAP</a></li>\\n<li><a href=\"/dwh/dwh_relational_olap.htm\">DWH - Relational OLAP</a></li>\\n<li><a href=\"/dwh/dwh_multidimensional_olap.htm\">DWH - Multidimensional OLAP</a></li>\\n<li><a href=\"/dwh/dwh_schemas.htm\">DWH - Schemas</a></li>\\n<li><a href=\"/dwh/dwh_partitioning_strategy.htm\">DWH - Partitioning Strategy</a></li>\\n<li><a href=\"/dwh/dwh_metadata_concepts.htm\">DWH - Metadata Concepts</a></li>\\n<li><a href=\"/dwh/dwh_data_marting.htm\">DWH - Data Marting</a></li>\\n<li><a href=\"/dwh/dwh_system_managers.htm\">DWH - System Managers</a></li>\\n<li><a href=\"/dwh/dwh_process_managers.htm\">DWH - Process Managers</a></li>\\n<li><a href=\"/dwh/dwh_security.htm\">DWH - Security</a></li>\\n<li><a href=\"/dwh/dwh_backup.htm\">DWH - Backup</a></li>\\n<li><a href=\"/dwh/dwh_tuning.htm\">DWH - Tuning</a></li>\\n<li><a href=\"/dwh/dwh_testing.htm\">DWH - Testing</a></li>\\n<li><a href=\"/dwh/dwh_future_aspects.htm\">DWH - Future Aspects</a></li>\\n<li><a href=\"/dwh/dwh_interview_questions.htm\">DWH - Interview Questions</a></li>\\n</ul>\\n<ul class=\"toc chapters\">\\n<li class=\"heading\">DWH Useful Resources</li>\\n<li><a href=\"/dwh/dwh_quick_guide.htm\">DWH - Quick Guide</a></li>\\n<li><a href=\"/dwh/dwh_useful_resources.htm\">DWH - Useful Resources</a></li>\\n<li><a href=\"/dwh/dwh_discussion.htm\">DWH - Discussion</a></li>\\n</ul>\\n         <ul class=\"toc reading\">\\n            <li class=\"sreading\">Selected Reading</li>\\n            <li><a target=\"_blank\" href=\"/upsc_ias_exams.htm\">UPSC IAS Exams Notes</a></li>\\n            <li><a target=\"_blank\" href=\"/developers_best_practices/index.htm\">Developer\\'s Best Practices</a></li>\\n            <li><a target=\"_blank\" href=\"/questions_and_answers.htm\">Questions and Answers</a></li>\\n            <li><a target=\"_blank\" href=\"/effective_resume_writing.htm\">Effective Resume Writing</a></li>\\n            <li><a target=\"_blank\" href=\"/hr_interview_questions/index.htm\">HR Interview Questions</a></li>\\n            <li><a target=\"_blank\" href=\"/computer_glossary.htm\">Computer Glossary</a></li>\\n            <li><a target=\"_blank\" href=\"/computer_whoiswho.htm\">Who is Who</a></li>\\n         </ul>\\n      </div>\\n      <div id=\"stickyparent\" class=\"d-none d-sm-block\">\\n         <div style=\"height:0px;width:300px;\" id=\"sticky-ad\">\\n          <!-- Placeholder for an advertisement -->\\n         </div>\\n      </div>\\n</div>\\n<!-- Tutorial ToC Ends Here -->\\n<!-- Tutorial Content Starts Here -->\\n<div class=\"tutorial-content\" id=\"mainContent\">\\n<h1>Data Warehousing - Terminologies</h1>\\n<hr />\\n<!-- TAGNAME: 728x90_Top -->\\n<div id=\"ezoic-pub-ad-placeholder-132\" style=\"text-align:center !important;overflow: hidden; max-height:99px;min-height:99px\" class=\"clsEzoicAdv\"></div>\\n<script>\\n   ezstandalone.cmd.push(function() {\\n   ezstandalone.showAds(132);\\n});\\n</script>\\n<hr>\\n<div class=\"library-page-top-nav\">\\n   <a href=\"/dwh/dwh_data_warehousing.htm\">\\n   <div class=\"button button--neutral\">\\n   <svg xmlns=\"http://www.w3.org/2000/svg\" width=\"10\" height=\"16\" viewBox=\"0 0 10 16\" fill=\"none\"><path d=\"M1.03117 8.48836C0.64065 8.09783 0.64065 7.46467 1.03117 7.07414L7.39514 0.710183C7.78566 0.319658 8.41883 0.319658 8.80935 0.710183C9.19987 1.10071 9.19987 1.73387 8.80935 2.1244L3.15249 7.78125L8.80935 13.4381C9.19987 13.8286 9.19987 14.4618 8.80935 14.8523C8.41882 15.2428 7.78566 15.2428 7.39513 14.8523L1.03117 8.48836ZM3.12109 8.78125L1.73828 8.78125L1.73828 6.78125L3.12109 6.78125L3.12109 8.78125Z\" fill=\"black\" /></svg>\\n      Previous\\n   </div>\\n   </a>\\n   <div class=\"flex-group\">\\n   <a href=\"/dwh/dwh_delivery_process.htm\">\\n   <div class=\"button \">Next\\n   <svg xmlns=\"http://www.w3.org/2000/svg\" width=\"10\" height=\"16\" viewBox=\"0 0 10 16\" fill=\"none\"><path\\n   d=\"M8.87117 8.48836C9.26169 8.09783 9.26169 7.46467 8.87117 7.07414L2.50721 0.710183C2.11668 0.319658 1.48352 0.319658 1.09299 0.710183C0.70247 1.10071 0.70247 1.73387 1.09299 2.1244L6.74985 7.78125L1.093 13.4381C0.702471 13.8286 0.702471 14.4618 1.093 14.8523C1.48352 15.2428 2.11668 15.2428 2.50721 14.8523L8.87117 8.48836ZM6.78125 8.78125L8.16406 8.78125L8.16406 6.78125L6.78125 6.78125L6.78125 8.78125Z\" fill=\"white\" /></svg>\\n   </div>\\n   </a>\\n   </div>\\n</div>\\n<div class=\"clearer\"></div>\\n<p>In this chapter, we will discuss some of the most commonly used terms in data warehousing.</p>\\n<h2>Metadata</h2>\\n<p>Metadata is simply defined as data about data. The data that are used to represent other data is known as metadata. For example, the index of a book serves as a metadata for the contents in the book. In other words, we can say that metadata is the summarized data that leads us to the detailed data.</p>\\n<p>In terms of  data warehouse, we can define metadata as following &minus;</p>\\n<ul class=\"list\">\\n<li><p>Metadata is a road-map to data warehouse.</p></li>\\n<li><p>Metadata in data warehouse defines the warehouse objects.</p></li>\\n<li><p>Metadata acts as a directory. This directory helps the decision support system to locate the contents of a data warehouse.</p></li>\\n</ul>\\n<h2>Metadata Repository</h2>\\n<p>Metadata repository is an integral part of a data warehouse system. It contains the following metadata &minus;</p>\\n<ul class=\"list\">\\n<li><p><b>Business metadata</b> &minus; It contains the data ownership information, business definition, and changing policies.</p></li>\\n<li><p><b>Operational metadata</b> &minus; It includes currency of data and data lineage. Currency of data refers to the data being active, archived, or purged. Lineage of data means history of data migrated and transformation applied on it.</p></li>\\n<li><p><b>Data for mapping from operational environment to data warehouse</b> &minus; It metadata includes source databases and their contents, data extraction, data partition, cleaning, transformation rules, data refresh and purging rules.</p></li>\\n<li><p><b>The algorithms for summarization</b> &minus; It includes dimension algorithms, data on granularity, aggregation, summarizing, etc.</p></li>\\n</ul>\\n<h2>Data Cube</h2>\\n<p>A data cube helps us represent data in multiple dimensions. It is defined by dimensions and facts. The dimensions are the entities with respect to which an enterprise preserves the records.</p>\\n<h3>Illustration of Data Cube</h3>\\n<p>Suppose a company wants to keep track of sales records with the help of sales data warehouse with respect to time, item, branch, and location. These dimensions allow to keep track of monthly sales and at which branch the items were sold. There is a table associated with each dimension. This table is known as dimension table. For example, \"item\" dimension table may have attributes such as item_name, item_type, and item_brand.</p>\\n<p>The following table represents the 2-D view of Sales Data for a company with respect to time, item, and location dimensions.</p>\\n<img src=\"/dwh/images/data_cube2d.jpg\" alt=\"data cube 2D\" />\\n<p>But here in this 2-D table, we have records with respect to time and item only. The sales for New Delhi are shown with respect to time, and item dimensions according to type of items sold. If we want to view the sales data with one more dimension, say, the location dimension, then the 3-D view would be useful. The 3-D view of the sales data with respect to time, item, and location is shown in the table below &minus;</p>\\n<img src=\"/dwh/images/data_cube3d.jpg\" alt=\"data cube 3D\" />\\n<p>The above 3-D table can be represented as 3-D data cube as shown in the following figure &minus;</p>\\n<img src=\"/dwh/images/data_cube3d1.jpg\" alt=\"data cube 3D\" />\\n<h2>Data Mart</h2>\\n<p>Data marts contain a subset of organization-wide data that is valuable to specific groups of people in an organization. In other words, a data mart contains only those data that is specific to a particular group. For example, the marketing data mart may contain only data related to items, customers, and sales. Data marts are confined to subjects.</p>\\n<h3>Points to Remember About Data Marts</h3>\\n<ul class=\"list\">\\n<li><p>Windows-based or Unix/Linux-based servers are used to implement data marts. They are implemented on low-cost servers.</p></li>\\n<li><p>The implementation cycle of a data mart is measured in short periods of time, i.e., in weeks rather than months or years.</p></li>\\n<li><p>The life cycle of data marts may be complex in the long run, if their planning and design are not organization-wide.</p>\\n<li><p>Data marts are small in size.</p></li>\\n<li><p>Data marts are customized by department.</p></li>\\n<li><p>The source of a data mart is departmentally structured data warehouse.</p></li>\\n<li><p>Data marts are flexible.</p></li>\\n</ul>\\n<p>The following figure shows a graphical representation of data marts.</p>\\n<img src=\"/dwh/images/data_mart.jpg\" alt=\"data mart\" />\\n<h2>Virtual Warehouse</h2>\\n<p>The view over an operational data warehouse is known as virtual warehouse. It is easy to build a virtual warehouse. Building a virtual warehouse requires excess capacity on operational database servers.</p>\\n<div class=\"library-page-bottom-nav \">\\n   <div class=\"button button--blue\" id=\"print-page\">\\n    <svg fill=\"white\" xmlns=\"http://www.w3.org/2000/svg\" height=\"1em\" viewBox=\"0 0 512 512\"><path d=\"M112 160V64c0-8.8 7.2-16 16-16H357.5c4.2 0 8.3 1.7 11.3 4.7l26.5 26.5c3 3 4.7 7.1 4.7 11.3V160h48V90.5c0-17-6.7-33.3-18.7-45.3L402.7 18.7C390.7 6.7 374.5 0 357.5 0H128C92.7 0 64 28.7 64 64v96h48zm16 208H384v96H128V368zm-16-48c-17.7 0-32 14.3-32 32H48V256c0-8.8 7.2-16 16-16H448c8.8 0 16 7.2 16 16v96H432c0-17.7-14.3-32-32-32H112zm320 80h48c17.7 0 32-14.3 32-32V256c0-35.3-28.7-64-64-64H64c-35.3 0-64 28.7-64 64V368c0 17.7 14.3 32 32 32H80v80c0 17.7 14.3 32 32 32H400c17.7 0 32-14.3 32-32V400z\"/></svg>\\n      Print Page\\n   </div>\\n   <div class=\"flex-group\">\\n   <a href=\"/dwh/dwh_data_warehousing.htm\">\\n   <div class=\"button button--neutral\">\\n   <svg xmlns=\"http://www.w3.org/2000/svg\" width=\"10\" height=\"16\" viewBox=\"0 0 10 16\" fill=\"none\"><path d=\"M1.03117 8.48836C0.64065 8.09783 0.64065 7.46467 1.03117 7.07414L7.39514 0.710183C7.78566 0.319658 8.41883 0.319658 8.80935 0.710183C9.19987 1.10071 9.19987 1.73387 8.80935 2.1244L3.15249 7.78125L8.80935 13.4381C9.19987 13.8286 9.19987 14.4618 8.80935 14.8523C8.41882 15.2428 7.78566 15.2428 7.39513 14.8523L1.03117 8.48836ZM3.12109 8.78125L1.73828 8.78125L1.73828 6.78125L3.12109 6.78125L3.12109 8.78125Z\" fill=\"black\" /></svg>\\n      Previous\\n   </div>\\n   </a>\\n   <a href=\"/dwh/dwh_delivery_process.htm\">\\n   <div class=\"button \">Next\\n   <svg xmlns=\"http://www.w3.org/2000/svg\" width=\"10\" height=\"16\" viewBox=\"0 0 10 16\" fill=\"none\"><path\\n   d=\"M8.87117 8.48836C9.26169 8.09783 9.26169 7.46467 8.87117 7.07414L2.50721 0.710183C2.11668 0.319658 1.48352 0.319658 1.09299 0.710183C0.70247 1.10071 0.70247 1.73387 1.09299 2.1244L6.74985 7.78125L1.093 13.4381C0.702471 13.8286 0.702471 14.4618 1.093 14.8523C1.48352 15.2428 2.11668 15.2428 2.50721 14.8523L8.87117 8.48836ZM6.78125 8.78125L8.16406 8.78125L8.16406 6.78125L6.78125 6.78125L6.78125 8.78125Z\" fill=\"white\" /></svg>\\n   </div>\\n   </a>\\n   </div>\\n</div>\\n   <div class=\"bottom-library-ads mt\"  style=\"margin:5px;\">\\n      <div class=\"google-bottom-ads\" id=\"google-bottom-ads\" style=\"height:450px;\">\\n         <div>Advertisements</div>\\n         <div>\\n            <div id=\"ezoic-pub-ad-placeholder-131\"></div>\\n            <div id=\"ezoic-pub-ad-placeholder-135\"></div>\\n            <script>\\n               ezstandalone.cmd.push(function() {\\n                  var width = window.innerWidth;\\n                  if( width <= 768 ){\\n                     ezstandalone.showAds(135);\\n                     document.getElementById(\"ezoic-pub-ad-placeholder-131\").remove();\\n                     document.getElementById(\"google-right-ads\").remove();\\n                  }else{\\n                     ezstandalone.showAds(131);\\n                     document.getElementById(\"ezoic-pub-ad-placeholder-135\").remove();\\n                  }\\n               });\\n            </script>\\n         </div>\\n         </div>\\n   </div>\\n   </div>\\n   <div>\\n      <div class=\"data-sticky\" id=\"google-right-ads\">\\n      <div class=\"google-right-ad\" style=\"margin: 0px auto !important;margin-top:5px;min-height:280px!important\">\\n      <div id=\"ezoic-pub-ad-placeholder-127\"></div>\\n         <script>\\n            ezstandalone.cmd.push(function() {\\n               ezstandalone.showAds(127);\\n            });\\n         </script>\\n      </div>\\n      <div class=\"google-right-ad\" style=\"margin-top:16px;min-height:280px!important\">\\n         <div id=\"ezoic-pub-ad-placeholder-128\"></div>\\n         <script>\\n            ezstandalone.cmd.push(function() {\\n               ezstandalone.showAds(128);\\n            });\\n         </script>\\n      </div>\\n      <div class=\"google-right-ad\" style=\"margin-top:16px;margin-bottom:15px;min-height:600px!important\">\\n         <div id=\"ezoic-pub-ad-placeholder-129\"></div>\\n         <script>\\n         ezstandalone.cmd.push(function() {\\n              ezstandalone.showAds(129);\\n         });\\n         </script>\\n      </div>\\n   </div>\\n   </div>\\n</div>\\n</div>\\n</main>\\n\\n<footer class=\"footer bg-neutral-800\">\\n   <div class=\"container\">\\n      <div>\\n         <h5>TOP TUTORIALS</h5>\\n         <ul>\\n            <li><a href=\"/python/index.htm\" title=\"Python Tutorial\">Python Tutorial</a></li>\\n            <li><a href=\"/java/index.htm\" title=\"Java Tutorial\">Java Tutorial</a></li>\\n            <li><a href=\"/cplusplus/index.htm\" title=\"C++ Tutorial\">C++ Tutorial</a></li>\\n            <li><a href=\"/cprogramming/index.htm\" title=\"C Programming Tutorial\">C Programming Tutorial</a></li>\\n            <li><a href=\"/csharp/index.htm\" title=\"C# Tutorial\">C# Tutorial</a></li>\\n            <li><a href=\"/php/index.htm\" title=\"PHP Tutorial\">PHP Tutorial</a></li>\\n            <li><a href=\"/r/index.htm\" title=\"R Tutorial\">R Tutorial</a></li>\\n            <li><a href=\"/html/index.htm\" title=\"HTML Tutorial\">HTML Tutorial</a></li>\\n            <li><a href=\"/css/index.htm\" title=\"CSS Tutorial\">CSS Tutorial</a></li>\\n            <li><a href=\"/javascript/index.htm\" title=\"JavaScript Tutorial\">JavaScript Tutorial</a></li>\\n            <li><a href=\"/sql/index.htm\" title=\"SQL Tutorial\">SQL Tutorial</a></li>\\n         </ul>\\n      </div>\\n      <div>\\n         <h5>TRENDING TECHNOLOGIES</h5>\\n         <ul>\\n            <li><a href=\"/cloud_computing/index.htm\" title=\"Cloud Computing Tutorial\">Cloud Computing Tutorial</a></li>\\n            <li><a href=\"/amazon_web_services/index.htm\" title=\"Amazon Web Services Tutorial\">Amazon Web Services Tutorial</a></li>\\n            <li><a href=\"/microsoft_azure/index.htm\" title=\"Microsoft Azure Tutorial\">Microsoft Azure Tutorial</a></li>\\n            <li><a href=\"/git/index.htm\" title=\"Git Tutorial\">Git Tutorial</a></li>\\n            <li> <a href=\"/ethical_hacking/index.htm\" title=\"Ethical Hacking Tutorial\">Ethical Hacking Tutorial</a></li>\\n            <li><a href=\"/docker/index.htm\" title=\"Docker Tutorial\">Docker Tutorial</a></li>\\n            <li><a href=\"/kubernetes/index.htm\" title=\"Kubernetes Tutorial\">Kubernetes Tutorial</a></li>\\n            <li><a href=\"/data_structures_algorithms/index.htm\" title=\"DSA Tutorial\">DSA Tutorial</a></li>\\n            <li><a href=\"/spring_boot/index.htm\" title=\"Spring Boot Tutorial\">Spring Boot Tutorial</a></li>\\n            <li><a href=\"/sdlc/index.htm\" title=\"SDLC Tutorial\">SDLC Tutorial</a></li>\\n            <li><a href=\"/unix/index.htm\" title=\"Unix Tutorial\">Unix Tutorial</a></li>\\n         </ul>\\n      </div>\\n      <div>\\n         <h5>CERTIFICATIONS</h5>\\n         <ul>\\n            <li><a href=\"/certification/business-analytics-certification-2023/index.asp\" title=\"Business Analytics Certification\">Business Analytics Certification</a></li>\\n            <li><a href=\"/certification/java-prime-pack/index.asp\" title=\"Java & Spring Boot Advanced Certification\">Java & Spring Boot Advanced Certification</a></li>\\n            <li><a href=\"/certification/data-science-advanced-certification/index.asp\" title=\"Data Science Advanced Certification\">Data Science Advanced Certification</a></li>\\n            <li><a href=\"/certification/cloud-computing-and-devops-advanced-certification/index.asp\" title=\"Cloud Computing And DevOps\">Cloud Computing And DevOps</a></li>\\n            <li><a href=\"/certification/advanced-certification-in-business-analytics/index.asp\" title=\"Advanced Certification In Business Analytics\">Advanced Certification In Business Analytics</a></li>\\n            <li><a href=\"/certification/artificial-intelligence-and-machine-learning-certification/index.asp\" title=\"Artificial Intelligence And Machine Learning\">Artificial Intelligence And Machine Learning</a></li>\\n            <li><a href=\"/certification/devops-certification/index.asp\" title=\"DevOps Certification\">DevOps Certification</a></li>\\n            <li><a href=\"/certification/game-development-prime-pack/index.asp\" title=\"Game Development Certification\">Game Development Certification</a></li>\\n            <li><a href=\"/certification/frontend-developer-certification/index.asp\" title=\"Front-End Developer Certification\">Front-End Developer Certification</a></li>\\n            <li><a href=\"/certification/aws-prime-pack/index.asp\" title=\"AWS Certification Training\">AWS Certification Training</a></li>\\n            <li><a href=\"/certification/complete-python-prime-pack/index.asp\" title=\"Python Programming Certification\">Python Programming Certification</a></li>\\n         </ul>\\n      </div>\\n      <div>\\n         <h5>COMPILERS & EDITORS</h5>\\n         <ul>\\n            <li><a href=\"/online_java_compiler.php\" title=\"Online Java Compiler\">Online Java Compiler</a></li>\\n            <li><a href=\"/online_python_compiler.php\" title=\"Online Python Compiler\">Online Python Compiler</a></li>\\n            <li><a href=\"/execute_golang_online.php\" title=\"Online Go Compiler\">Online Go Compiler</a></li>\\n            <li><a href=\"/compile_c_online.php\" title=\"Online C Compiler\">Online C Compiler</a></li>\\n            <li><a href=\"/compile_cpp_online.php\" title=\"Online C++ Compiler\">Online C++ Compiler</a></li>\\n            <li><a href=\"/online_csharp_compiler.php\" title=\"Online C# Compiler\">Online C# Compiler</a></li>\\n            <li><a href=\"/execute_php_online.php\" title=\"Online PHP Compiler\">Online PHP Compiler</a></li>\\n            <li><a href=\"/execute_matlab_online.php\" title=\"Online MATLAB Compiler\">Online MATLAB Compiler</a></li>\\n            <li><a href=\"/execute_bash_online.php\" title=\"Online Bash Compiler\">Online Bash Compiler</a></li>\\n            <li><a href=\"/execute_sql_online.php\" title=\"Online SQL Compiler\">Online SQL Compiler</a></li>\\n            <li><a href=\"/online_html_editor.php\" title=\"Online Html Editor\">Online Html Editor</a></li>\\n         </ul>\\n      </div>\\n   </div>\\n   <ul class=\"footer__list container\">\\n      <li><a href=\"/about/index.htm\" title=\"ABOUT US\">ABOUT US</a> | </li>\\n      <li><a href=\"/about/about_team.htm\" title=\"OUR TEAM\">OUR TEAM</a> | </li>\\n      <li><a href=\"/about/about_careers.htm\" title=\"CAREERS\">CAREERS</a> | </li>\\n      <li><a href=\"/job_search.php\" title=\"JOBS\">JOBS</a> | </li>\\n      <li><a href=\"/about/contact_us.htm\" title=\"CONTACT US\">CONTACT US</a> | </li>\\n      <li><a href=\"/about/about_terms_of_use.htm\" title=\"TERMS OF USE\">TERMS OF USE</a> | </li>\\n      <li><a href=\"/about/about_privacy.htm\" title=\"PRIVACY POLICY\">PRIVACY POLICY</a> | </li>\\n      <li><a href=\"/about/return_refund_policy.htm\" title=\"REFUND POLICY\">REFUND POLICY</a> | </li>\\n      <li><a href=\"/about/about_cookies.htm\" title=\"COOKIES POLICY\">COOKIES POLICY</a> | </li>\\n      <li><a href=\"/about/faq.htm\" title=\"FAQ\\'S\">FAQ\\'S</a></li>\\n   </ul>\\n   <div class=\"footer__socials container\">\\n      <img class=\"footer__logo\" src=\"https://www.tutorialspoint.com/static/images/logo-footer.svg\" alt=\"tutorials point logo\">\\n      <div>\\n         <a rel=\"nofollow\" target=\"_blank\" href=\"https://www.facebook.com/tutorialspointindia\" title=\"Follow us on Facebook\"><i class=\"fab fa-2x fa-facebook\"></i></a>\\n         <a target=\"_blank\" href=\"https://twitter.com/tutorialspoint\" rel=\"nofollow\" title=\"Follow us on Twitter\"><i class=\"fab fa-2x fa-x-twitter\"></i></a>\\n         <a target=\"_blank\" href=\"https://www.youtube.com/channel/UCVLbzhxVTiTLiVKeGV7WEBg\" rel=\"nofollow\" title=\"Follow us on Youtube\"><i class=\"fab fa-2x fa-youtube\"></i></a>\\n         <a target=\"_blank\" href=\"https://www.linkedin.com/company/tutorialspoint/\" rel=\"nofollow\" title=\"Follow us on LinkedIn\"><i class=\"fab fa-2x fa-linkedin\"></i></a>\\n         <a target=\"_blank\" href=\"https://www.instagram.com/tutorialspoint_/\" rel=\"nofollow\" title=\"Follow us on Instagram\"><i class=\"fab fa-2x fa-instagram\"></i></a>\\n      </div>\\n      <div class=\"flex-group\">\\n         <button class=\"button-reset\"><a href=\"https://play.google.com/store/apps/details?id=com.tutorialspoint.onlineviewer\" target=\"_blank\" title=\"Download Android App\" rel=\"nofollow\"><img src=\"https://www.tutorialspoint.com/static/images/googleplay.svg\" alt=\"Download Android App\"></a></button>\\n         <button class=\"button-reset\"><a href=\"https://itunes.apple.com/us/app/tutorials-point/id914891263?ls=1&amp;mt=8\" target=\"_blank\" title=\"Download IOS App\" rel=\"nofollow\"><img src=\"https://www.tutorialspoint.com/static/images/appstore.svg\" alt=\"Download IOS App\"></a></button>\\n      </div>\\n   </div>\\n   <div class=\"footer__legal-wrapper\">\\n      <div class=\"footer__legal ff-nunito\">\\n         <p>\\n         <p class=\"\">Tutorials Point is a leading Ed Tech company striving to provide the best learning material on technical and non-technical subjects.</p>\\n         </p>\\n         <p class=\"footer__copyright \">© Copyright 2024. All Rights Reserved.</p>\\n      </div>\\n   </div>\\n</footer>\\n<script src=\"/static/js/lib-script.js?v12.43\"></script>\\n<script src=\"https://accounts.google.com/gsi/client\" async defer></script>\\n<script>\\nfunction addParagraphs(ind) {\\n   let techLinks =[[\"Python\",\"JavaScript\",\"Spring Boot\",\"Java\",\"Linux/Unix\",\"C#\",\"Data Science\",\"MySQL\",\"Artificial Intelligence\",\"SQL\"],\\n    [\"https://www.tutorialspoint.com/certification/complete-python-prime-pack/index.asp?utm_source=tutorialspoint&utm_medium=python_tutorial_3p&utm_campaign=internal\",\\n   \"https://www.tutorialspoint.com/certification/javascript-prime-pack/index.asp?utm_source=tutorialspoint&utm_medium=javascript_tutorial_3p&utm_campaign=internal\",\\n   \"https://www.tutorialspoint.com/certification/ultimate-guide-to-java-and-spring-boot-for-2022/index.asp?utm_source=tutorialspoint&utm_medium=java_tutorial_3p&utm_campaign=internal\",\\n   \"https://www.tutorialspoint.com/certification/ultimate-guide-to-java-and-spring-boot-for-2022/index.asp?utm_source=tutorialspoint&utm_medium=spring_boot_tutorial_3p&utm_campaign=internal\",\\n   \"https://www.tutorialspoint.com/certification/linux-system-administrator-certification/index.asp?utm_source=tutorialspoint&utm_medium=unix_tutorial_3p&utm_campaign=internal\",\\n   \"https://www.tutorialspoint.com/certification/chash-and-net-prime-pack/index.asp?utm_source=tutorialspoint&utm_medium=csharp_tutorial_3p&utm_campaign=internal\",\\n   \"https://www.tutorialspoint.com/certification/data-science-prime-pack/index.asp?utm_source=tutorialspoint&utm_medium=data_science_tutorial_3p&utm_campaign=internal\",\\n   \"https://www.tutorialspoint.com/certification/mysql-technologies-pack/index.asp?utm_source=tutorialspoint&utm_medium=mysql_tutorial_3p&utm_campaign=internal\",\\n   \"https://www.tutorialspoint.com/certification/artificial-intelligence-and-machine-learning-certification/index.asp?utm_source=tutorialspoint&utm_medium=artificial_intelligence_tutorial_3p&utm_campaign=internal\",\\n   \"https://www.tutorialspoint.com/certification/mysql-technologies-pack/index.asp?utm_source=tutorialspoint&utm_medium=sql_tutorial_3p&utm_campaign=internal\"]]\\n   var p2 = \\'\\';\\n   if(ind>=0){\\n      p2 = p2 + \\'<a style=\"text-decoration:none;\" href=\"\\' + techLinks[1][ind] +\\'\" target=\"_blank\" ><p class=\"prmt_ad\">Learn <strong>\\'+ techLinks[0][ind] + \\'</strong> in-depth with real-world projects through our <strong>\\' + techLinks[0][ind] + \\' certification course</strong>. Enroll and become a certified expert to boost your career.</p></a>\\';\\n   }\\n   else{\\n      p2 = p2 + \\'<a href=\"https://www.tutorialspoint.com/latest/courses?utm_source=tutorialspoint&utm_medium=tutorials_3p&utm_campaign=internal\" style=\"text-decoration:none;\" target=\"_blank\"><p class=\"prmt_ad\">Explore our <strong>latest online courses</strong> and learn new skills at your own pace. Enroll and become a certified expert to boost your career.</p></a>\\';\\n   }\\n   $(p2).insertBefore($(\\'.tutorial-content h2\\').eq(2));\\n}\\n$(document).ready(function() {\\n   var url= window.location.href.toLowerCase();\\n   if(url.indexOf(\\'python\\') > -1){\\n      addParagraphs(0);\\n   }\\n   else if(url.indexOf(\\'javascript\\') > -1){\\n      addParagraphs(1);\\n   }\\n   else if(url.indexOf(\\'spring_boot\\') > -1){\\n    addParagraphs(2);\\n   }\\n   else if(url.indexOf(\\'java\\') > -1){\\n      addParagraphs(3);\\n   }\\n   else if((url.indexOf(\\'unix\\') > -1)||(url.indexOf(\\'linux\\') > -1)){\\n      addParagraphs(4);\\n   }\\n   else if((url.indexOf(\\'csharp\\') > -1)||(url.indexOf(\\'chash\\') > -1)){\\n      addParagraphs(5);\\n   }\\n   else if(url.indexOf(\\'data_science\\') > -1){\\n      addParagraphs(6);\\n   }\\n   else if(url.indexOf(\\'mysql\\') > -1){\\n      addParagraphs(7);\\n   }\\n   else if((url.indexOf(\\'artificial_intelligence\\') > -1)||(url.indexOf(\\'artificial-intelligence\\') > -1)){\\n      addParagraphs(8);\\n   }\\n   else if(url.indexOf(\\'sql\\') > -1){\\n      addParagraphs(9);\\n   }\\n   else{\\n      addParagraphs(-1);\\n   }\\n});\\n</script>\\n<script>\\nif(getCookie(\\'user_id\\') == \\'\\' || getCookie(\\'user_id\\') == null){\\n   window.onload = function() {\\n\\tinitializeGoogleOneTap();\\n   };\\n}\\n</script> \\n<script src=\"https://www.tutorialspoint.com/fontawesome/js/all.min.js?v2.9\"></script>\\n<script src=\"https://the.gatekeeperconsent.com/cmp.min.js\" data-cfasync=\"false\"></script>\\n<script async src=\"/static/js/ezoic-ad-inserter.js?v4.2\"></script>\\n<script async src=\"https://www.googletagmanager.com/gtag/js?id=G-EX9ZP4VY84\"></script>\\n<script>\\n     window.dataLayer = window.dataLayer || [];\\n     function gtag(){dataLayer.push(arguments);}\\n     gtag(\\'js\\', new Date());\\n     gtag(\\'config\\', \\'G-EX9ZP4VY84\\');\\n</script>\\n<!-- New Facebook Pixel Code -->\\n<script>\\n   !function(f,b,e,v,n,t,s)\\n   {if(f.fbq)return;n=f.fbq=function(){n.callMethod?\\n   n.callMethod.apply(n,arguments):n.queue.push(arguments)};\\n   if(!f._fbq)f._fbq=n;n.push=n;n.loaded=!0;n.version=\\'2.0\\';\\n   n.queue=[];t=b.createElement(e);t.async=!0;\\n   t.src=v;s=b.getElementsByTagName(e)[0];\\n   s.parentNode.insertBefore(t,s)}(window,document,\\'script\\',\\n   \\'https://connect.facebook.net/en_US/fbevents.js\\');\\n   fbq(\\'init\\', \\'854536859149047\\');\\n   fbq(\\'track\\', \\'PageView\\');\\n</script>\\n <!-- End facebook Pixel Code -->\\n</body>\\n</html>\\n'"
            ],
            "application/vnd.google.colaboratory.intrinsic+json": {
              "type": "string"
            }
          },
          "metadata": {},
          "execution_count": 13
        }
      ]
    },
    {
      "cell_type": "code",
      "source": [
        "soup = BeautifulSoup(response.text,'html.parser')"
      ],
      "metadata": {
        "id": "W8H9mFrD6ESn"
      },
      "execution_count": 15,
      "outputs": []
    },
    {
      "cell_type": "code",
      "source": [
        "list_content = soup.select('.list')"
      ],
      "metadata": {
        "id": "KGZ-DEuV7J-V"
      },
      "execution_count": 16,
      "outputs": []
    },
    {
      "cell_type": "code",
      "source": [
        "list_content"
      ],
      "metadata": {
        "colab": {
          "base_uri": "https://localhost:8080/"
        },
        "id": "GJwVlM8u7iEI",
        "outputId": "c1ada713-add6-4cea-eb97-037259b8375b"
      },
      "execution_count": 17,
      "outputs": [
        {
          "output_type": "execute_result",
          "data": {
            "text/plain": [
              "[<ul class=\"list\">\n",
              " <li><p>Metadata is a road-map to data warehouse.</p></li>\n",
              " <li><p>Metadata in data warehouse defines the warehouse objects.</p></li>\n",
              " <li><p>Metadata acts as a directory. This directory helps the decision support system to locate the contents of a data warehouse.</p></li>\n",
              " </ul>,\n",
              " <ul class=\"list\">\n",
              " <li><p><b>Business metadata</b> − It contains the data ownership information, business definition, and changing policies.</p></li>\n",
              " <li><p><b>Operational metadata</b> − It includes currency of data and data lineage. Currency of data refers to the data being active, archived, or purged. Lineage of data means history of data migrated and transformation applied on it.</p></li>\n",
              " <li><p><b>Data for mapping from operational environment to data warehouse</b> − It metadata includes source databases and their contents, data extraction, data partition, cleaning, transformation rules, data refresh and purging rules.</p></li>\n",
              " <li><p><b>The algorithms for summarization</b> − It includes dimension algorithms, data on granularity, aggregation, summarizing, etc.</p></li>\n",
              " </ul>,\n",
              " <ul class=\"list\">\n",
              " <li><p>Windows-based or Unix/Linux-based servers are used to implement data marts. They are implemented on low-cost servers.</p></li>\n",
              " <li><p>The implementation cycle of a data mart is measured in short periods of time, i.e., in weeks rather than months or years.</p></li>\n",
              " <li><p>The life cycle of data marts may be complex in the long run, if their planning and design are not organization-wide.</p>\n",
              " <li><p>Data marts are small in size.</p></li>\n",
              " <li><p>Data marts are customized by department.</p></li>\n",
              " <li><p>The source of a data mart is departmentally structured data warehouse.</p></li>\n",
              " <li><p>Data marts are flexible.</p></li>\n",
              " </li></ul>]"
            ]
          },
          "metadata": {},
          "execution_count": 17
        }
      ]
    },
    {
      "cell_type": "code",
      "source": [
        "print(len(list_content))"
      ],
      "metadata": {
        "colab": {
          "base_uri": "https://localhost:8080/"
        },
        "id": "jYoFWL7S7vt-",
        "outputId": "8aec7807-cc8f-4e18-daee-c7383c8b8513"
      },
      "execution_count": 20,
      "outputs": [
        {
          "output_type": "stream",
          "name": "stdout",
          "text": [
            "3\n"
          ]
        }
      ]
    },
    {
      "cell_type": "code",
      "source": [
        "metadata = []\n",
        "for i in list_content:\n",
        "  data = dict()\n",
        "\n",
        "  # data['title'] = i.find('p').text\n",
        "  data['content'] = i.find('p').text\n",
        "  metadata.append(data)"
      ],
      "metadata": {
        "id": "2K_tqDX-8gSf"
      },
      "execution_count": 26,
      "outputs": []
    },
    {
      "cell_type": "code",
      "source": [
        "newframe = pd.DataFrame(metadata)"
      ],
      "metadata": {
        "id": "Dt-CNbrH9bfS"
      },
      "execution_count": 27,
      "outputs": []
    },
    {
      "cell_type": "code",
      "source": [
        "newframe"
      ],
      "metadata": {
        "colab": {
          "base_uri": "https://localhost:8080/",
          "height": 143
        },
        "id": "A7fLlZUs-ibT",
        "outputId": "c4606693-5740-457c-a922-52f4584f52f2"
      },
      "execution_count": 28,
      "outputs": [
        {
          "output_type": "execute_result",
          "data": {
            "text/plain": [
              "                                             content\n",
              "0          Metadata is a road-map to data warehouse.\n",
              "1  Business metadata − It contains the data owner...\n",
              "2  Windows-based or Unix/Linux-based servers are ..."
            ],
            "text/html": [
              "\n",
              "  <div id=\"df-ed90088f-5491-4551-91f5-82c3df0fce7f\" class=\"colab-df-container\">\n",
              "    <div>\n",
              "<style scoped>\n",
              "    .dataframe tbody tr th:only-of-type {\n",
              "        vertical-align: middle;\n",
              "    }\n",
              "\n",
              "    .dataframe tbody tr th {\n",
              "        vertical-align: top;\n",
              "    }\n",
              "\n",
              "    .dataframe thead th {\n",
              "        text-align: right;\n",
              "    }\n",
              "</style>\n",
              "<table border=\"1\" class=\"dataframe\">\n",
              "  <thead>\n",
              "    <tr style=\"text-align: right;\">\n",
              "      <th></th>\n",
              "      <th>content</th>\n",
              "    </tr>\n",
              "  </thead>\n",
              "  <tbody>\n",
              "    <tr>\n",
              "      <th>0</th>\n",
              "      <td>Metadata is a road-map to data warehouse.</td>\n",
              "    </tr>\n",
              "    <tr>\n",
              "      <th>1</th>\n",
              "      <td>Business metadata − It contains the data owner...</td>\n",
              "    </tr>\n",
              "    <tr>\n",
              "      <th>2</th>\n",
              "      <td>Windows-based or Unix/Linux-based servers are ...</td>\n",
              "    </tr>\n",
              "  </tbody>\n",
              "</table>\n",
              "</div>\n",
              "    <div class=\"colab-df-buttons\">\n",
              "\n",
              "  <div class=\"colab-df-container\">\n",
              "    <button class=\"colab-df-convert\" onclick=\"convertToInteractive('df-ed90088f-5491-4551-91f5-82c3df0fce7f')\"\n",
              "            title=\"Convert this dataframe to an interactive table.\"\n",
              "            style=\"display:none;\">\n",
              "\n",
              "  <svg xmlns=\"http://www.w3.org/2000/svg\" height=\"24px\" viewBox=\"0 -960 960 960\">\n",
              "    <path d=\"M120-120v-720h720v720H120Zm60-500h600v-160H180v160Zm220 220h160v-160H400v160Zm0 220h160v-160H400v160ZM180-400h160v-160H180v160Zm440 0h160v-160H620v160ZM180-180h160v-160H180v160Zm440 0h160v-160H620v160Z\"/>\n",
              "  </svg>\n",
              "    </button>\n",
              "\n",
              "  <style>\n",
              "    .colab-df-container {\n",
              "      display:flex;\n",
              "      gap: 12px;\n",
              "    }\n",
              "\n",
              "    .colab-df-convert {\n",
              "      background-color: #E8F0FE;\n",
              "      border: none;\n",
              "      border-radius: 50%;\n",
              "      cursor: pointer;\n",
              "      display: none;\n",
              "      fill: #1967D2;\n",
              "      height: 32px;\n",
              "      padding: 0 0 0 0;\n",
              "      width: 32px;\n",
              "    }\n",
              "\n",
              "    .colab-df-convert:hover {\n",
              "      background-color: #E2EBFA;\n",
              "      box-shadow: 0px 1px 2px rgba(60, 64, 67, 0.3), 0px 1px 3px 1px rgba(60, 64, 67, 0.15);\n",
              "      fill: #174EA6;\n",
              "    }\n",
              "\n",
              "    .colab-df-buttons div {\n",
              "      margin-bottom: 4px;\n",
              "    }\n",
              "\n",
              "    [theme=dark] .colab-df-convert {\n",
              "      background-color: #3B4455;\n",
              "      fill: #D2E3FC;\n",
              "    }\n",
              "\n",
              "    [theme=dark] .colab-df-convert:hover {\n",
              "      background-color: #434B5C;\n",
              "      box-shadow: 0px 1px 3px 1px rgba(0, 0, 0, 0.15);\n",
              "      filter: drop-shadow(0px 1px 2px rgba(0, 0, 0, 0.3));\n",
              "      fill: #FFFFFF;\n",
              "    }\n",
              "  </style>\n",
              "\n",
              "    <script>\n",
              "      const buttonEl =\n",
              "        document.querySelector('#df-ed90088f-5491-4551-91f5-82c3df0fce7f button.colab-df-convert');\n",
              "      buttonEl.style.display =\n",
              "        google.colab.kernel.accessAllowed ? 'block' : 'none';\n",
              "\n",
              "      async function convertToInteractive(key) {\n",
              "        const element = document.querySelector('#df-ed90088f-5491-4551-91f5-82c3df0fce7f');\n",
              "        const dataTable =\n",
              "          await google.colab.kernel.invokeFunction('convertToInteractive',\n",
              "                                                    [key], {});\n",
              "        if (!dataTable) return;\n",
              "\n",
              "        const docLinkHtml = 'Like what you see? Visit the ' +\n",
              "          '<a target=\"_blank\" href=https://colab.research.google.com/notebooks/data_table.ipynb>data table notebook</a>'\n",
              "          + ' to learn more about interactive tables.';\n",
              "        element.innerHTML = '';\n",
              "        dataTable['output_type'] = 'display_data';\n",
              "        await google.colab.output.renderOutput(dataTable, element);\n",
              "        const docLink = document.createElement('div');\n",
              "        docLink.innerHTML = docLinkHtml;\n",
              "        element.appendChild(docLink);\n",
              "      }\n",
              "    </script>\n",
              "  </div>\n",
              "\n",
              "\n",
              "<div id=\"df-ef200485-33be-4347-9c36-7565aeed5d3e\">\n",
              "  <button class=\"colab-df-quickchart\" onclick=\"quickchart('df-ef200485-33be-4347-9c36-7565aeed5d3e')\"\n",
              "            title=\"Suggest charts\"\n",
              "            style=\"display:none;\">\n",
              "\n",
              "<svg xmlns=\"http://www.w3.org/2000/svg\" height=\"24px\"viewBox=\"0 0 24 24\"\n",
              "     width=\"24px\">\n",
              "    <g>\n",
              "        <path d=\"M19 3H5c-1.1 0-2 .9-2 2v14c0 1.1.9 2 2 2h14c1.1 0 2-.9 2-2V5c0-1.1-.9-2-2-2zM9 17H7v-7h2v7zm4 0h-2V7h2v10zm4 0h-2v-4h2v4z\"/>\n",
              "    </g>\n",
              "</svg>\n",
              "  </button>\n",
              "\n",
              "<style>\n",
              "  .colab-df-quickchart {\n",
              "      --bg-color: #E8F0FE;\n",
              "      --fill-color: #1967D2;\n",
              "      --hover-bg-color: #E2EBFA;\n",
              "      --hover-fill-color: #174EA6;\n",
              "      --disabled-fill-color: #AAA;\n",
              "      --disabled-bg-color: #DDD;\n",
              "  }\n",
              "\n",
              "  [theme=dark] .colab-df-quickchart {\n",
              "      --bg-color: #3B4455;\n",
              "      --fill-color: #D2E3FC;\n",
              "      --hover-bg-color: #434B5C;\n",
              "      --hover-fill-color: #FFFFFF;\n",
              "      --disabled-bg-color: #3B4455;\n",
              "      --disabled-fill-color: #666;\n",
              "  }\n",
              "\n",
              "  .colab-df-quickchart {\n",
              "    background-color: var(--bg-color);\n",
              "    border: none;\n",
              "    border-radius: 50%;\n",
              "    cursor: pointer;\n",
              "    display: none;\n",
              "    fill: var(--fill-color);\n",
              "    height: 32px;\n",
              "    padding: 0;\n",
              "    width: 32px;\n",
              "  }\n",
              "\n",
              "  .colab-df-quickchart:hover {\n",
              "    background-color: var(--hover-bg-color);\n",
              "    box-shadow: 0 1px 2px rgba(60, 64, 67, 0.3), 0 1px 3px 1px rgba(60, 64, 67, 0.15);\n",
              "    fill: var(--button-hover-fill-color);\n",
              "  }\n",
              "\n",
              "  .colab-df-quickchart-complete:disabled,\n",
              "  .colab-df-quickchart-complete:disabled:hover {\n",
              "    background-color: var(--disabled-bg-color);\n",
              "    fill: var(--disabled-fill-color);\n",
              "    box-shadow: none;\n",
              "  }\n",
              "\n",
              "  .colab-df-spinner {\n",
              "    border: 2px solid var(--fill-color);\n",
              "    border-color: transparent;\n",
              "    border-bottom-color: var(--fill-color);\n",
              "    animation:\n",
              "      spin 1s steps(1) infinite;\n",
              "  }\n",
              "\n",
              "  @keyframes spin {\n",
              "    0% {\n",
              "      border-color: transparent;\n",
              "      border-bottom-color: var(--fill-color);\n",
              "      border-left-color: var(--fill-color);\n",
              "    }\n",
              "    20% {\n",
              "      border-color: transparent;\n",
              "      border-left-color: var(--fill-color);\n",
              "      border-top-color: var(--fill-color);\n",
              "    }\n",
              "    30% {\n",
              "      border-color: transparent;\n",
              "      border-left-color: var(--fill-color);\n",
              "      border-top-color: var(--fill-color);\n",
              "      border-right-color: var(--fill-color);\n",
              "    }\n",
              "    40% {\n",
              "      border-color: transparent;\n",
              "      border-right-color: var(--fill-color);\n",
              "      border-top-color: var(--fill-color);\n",
              "    }\n",
              "    60% {\n",
              "      border-color: transparent;\n",
              "      border-right-color: var(--fill-color);\n",
              "    }\n",
              "    80% {\n",
              "      border-color: transparent;\n",
              "      border-right-color: var(--fill-color);\n",
              "      border-bottom-color: var(--fill-color);\n",
              "    }\n",
              "    90% {\n",
              "      border-color: transparent;\n",
              "      border-bottom-color: var(--fill-color);\n",
              "    }\n",
              "  }\n",
              "</style>\n",
              "\n",
              "  <script>\n",
              "    async function quickchart(key) {\n",
              "      const quickchartButtonEl =\n",
              "        document.querySelector('#' + key + ' button');\n",
              "      quickchartButtonEl.disabled = true;  // To prevent multiple clicks.\n",
              "      quickchartButtonEl.classList.add('colab-df-spinner');\n",
              "      try {\n",
              "        const charts = await google.colab.kernel.invokeFunction(\n",
              "            'suggestCharts', [key], {});\n",
              "      } catch (error) {\n",
              "        console.error('Error during call to suggestCharts:', error);\n",
              "      }\n",
              "      quickchartButtonEl.classList.remove('colab-df-spinner');\n",
              "      quickchartButtonEl.classList.add('colab-df-quickchart-complete');\n",
              "    }\n",
              "    (() => {\n",
              "      let quickchartButtonEl =\n",
              "        document.querySelector('#df-ef200485-33be-4347-9c36-7565aeed5d3e button');\n",
              "      quickchartButtonEl.style.display =\n",
              "        google.colab.kernel.accessAllowed ? 'block' : 'none';\n",
              "    })();\n",
              "  </script>\n",
              "</div>\n",
              "\n",
              "  <div id=\"id_88f23099-b090-4d67-8f82-626c6d062902\">\n",
              "    <style>\n",
              "      .colab-df-generate {\n",
              "        background-color: #E8F0FE;\n",
              "        border: none;\n",
              "        border-radius: 50%;\n",
              "        cursor: pointer;\n",
              "        display: none;\n",
              "        fill: #1967D2;\n",
              "        height: 32px;\n",
              "        padding: 0 0 0 0;\n",
              "        width: 32px;\n",
              "      }\n",
              "\n",
              "      .colab-df-generate:hover {\n",
              "        background-color: #E2EBFA;\n",
              "        box-shadow: 0px 1px 2px rgba(60, 64, 67, 0.3), 0px 1px 3px 1px rgba(60, 64, 67, 0.15);\n",
              "        fill: #174EA6;\n",
              "      }\n",
              "\n",
              "      [theme=dark] .colab-df-generate {\n",
              "        background-color: #3B4455;\n",
              "        fill: #D2E3FC;\n",
              "      }\n",
              "\n",
              "      [theme=dark] .colab-df-generate:hover {\n",
              "        background-color: #434B5C;\n",
              "        box-shadow: 0px 1px 3px 1px rgba(0, 0, 0, 0.15);\n",
              "        filter: drop-shadow(0px 1px 2px rgba(0, 0, 0, 0.3));\n",
              "        fill: #FFFFFF;\n",
              "      }\n",
              "    </style>\n",
              "    <button class=\"colab-df-generate\" onclick=\"generateWithVariable('newframe')\"\n",
              "            title=\"Generate code using this dataframe.\"\n",
              "            style=\"display:none;\">\n",
              "\n",
              "  <svg xmlns=\"http://www.w3.org/2000/svg\" height=\"24px\"viewBox=\"0 0 24 24\"\n",
              "       width=\"24px\">\n",
              "    <path d=\"M7,19H8.4L18.45,9,17,7.55,7,17.6ZM5,21V16.75L18.45,3.32a2,2,0,0,1,2.83,0l1.4,1.43a1.91,1.91,0,0,1,.58,1.4,1.91,1.91,0,0,1-.58,1.4L9.25,21ZM18.45,9,17,7.55Zm-12,3A5.31,5.31,0,0,0,4.9,8.1,5.31,5.31,0,0,0,1,6.5,5.31,5.31,0,0,0,4.9,4.9,5.31,5.31,0,0,0,6.5,1,5.31,5.31,0,0,0,8.1,4.9,5.31,5.31,0,0,0,12,6.5,5.46,5.46,0,0,0,6.5,12Z\"/>\n",
              "  </svg>\n",
              "    </button>\n",
              "    <script>\n",
              "      (() => {\n",
              "      const buttonEl =\n",
              "        document.querySelector('#id_88f23099-b090-4d67-8f82-626c6d062902 button.colab-df-generate');\n",
              "      buttonEl.style.display =\n",
              "        google.colab.kernel.accessAllowed ? 'block' : 'none';\n",
              "\n",
              "      buttonEl.onclick = () => {\n",
              "        google.colab.notebook.generateWithVariable('newframe');\n",
              "      }\n",
              "      })();\n",
              "    </script>\n",
              "  </div>\n",
              "\n",
              "    </div>\n",
              "  </div>\n"
            ],
            "application/vnd.google.colaboratory.intrinsic+json": {
              "type": "dataframe",
              "variable_name": "newframe",
              "summary": "{\n  \"name\": \"newframe\",\n  \"rows\": 3,\n  \"fields\": [\n    {\n      \"column\": \"content\",\n      \"properties\": {\n        \"dtype\": \"string\",\n        \"num_unique_values\": 3,\n        \"samples\": [\n          \"Metadata is a road-map to data warehouse.\",\n          \"Business metadata \\u2212 It contains the data ownership information, business definition, and changing policies.\",\n          \"Windows-based or Unix/Linux-based servers are used to implement data marts. They are implemented on low-cost servers.\"\n        ],\n        \"semantic_type\": \"\",\n        \"description\": \"\"\n      }\n    }\n  ]\n}"
            }
          },
          "metadata": {},
          "execution_count": 28
        }
      ]
    },
    {
      "cell_type": "code",
      "source": [
        "newframe.to_csv('Assignment')"
      ],
      "metadata": {
        "id": "yrZEZN-t-k0R"
      },
      "execution_count": 29,
      "outputs": []
    }
  ]
}